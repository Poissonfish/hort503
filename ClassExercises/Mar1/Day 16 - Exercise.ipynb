{
 "cells": [
  {
   "cell_type": "code",
   "execution_count": null,
   "metadata": {},
   "outputs": [],
   "source": [
    "import pandas as pd\n",
    "import numpy as np"
   ]
  },
  {
   "cell_type": "code",
   "execution_count": null,
   "metadata": {},
   "outputs": [],
   "source": [
    "# Open the Corn file.\n",
    "corn = pd.read_csv('corn.csv')\n",
    "corn.head()"
   ]
  },
  {
   "cell_type": "code",
   "execution_count": null,
   "metadata": {},
   "outputs": [],
   "source": [
    "# Pull out the insect resistant variety and the herbicide-tolerant vareity.  The insect\n",
    "# resistent consists of the rows 3-16 and columns 0-18.\n",
    "corn_insect = corn.iloc[3:17,0:19]\n",
    "\n",
    "# Next we want to assing the years to be the column names.  Oddly some of them show up as floats\n",
    "# but that will be fixed later.\n",
    "corn_insect.columns = corn.iloc[1,0:19]\n",
    "corn_insect = corn_insect.reset_index(drop=True)\n",
    "corn_insect.head()"
   ]
  },
  {
   "cell_type": "code",
   "execution_count": null,
   "metadata": {},
   "outputs": [],
   "source": [
    "# The herbiside tolorenat consists of the rows 3-16 and columns 1 (for state) and 19-37 (for years)\n",
    "s = [0]\n",
    "s.extend(list(range(19,37)))\n",
    "corn_herbicide = corn.iloc[3:17,s]\n",
    "corn_herbicide.head()\n",
    "\n",
    "# Assign the years as column headers\n",
    "corn_herbicide.columns = corn.iloc[1,s]\n",
    "corn_herbicide = corn_herbicide.reset_index(drop=True)\n",
    "corn_herbicide.head()"
   ]
  },
  {
   "cell_type": "code",
   "execution_count": null,
   "metadata": {},
   "outputs": [],
   "source": [
    "# Melt the insert resistant data into a Tidy data frame, and add in the missing columns.\n",
    "corn_insect_tidy = pd.melt(corn_insect, id_vars=['State'], var_name='Year', value_name='Value')\n",
    "corn_insect_tidy['Crop'] = 'corn'\n",
    "corn_insect_tidy['Crop Title'] = 'Genetically engineered (GE) corn'\n",
    "corn_insect_tidy['Variety'] = 'Insect-resistant (Bt) only'\n",
    "corn_insect_tidy['Unit'] = 'Percent of all corn planted'\n",
    "corn_insect_tidy.head()"
   ]
  },
  {
   "cell_type": "code",
   "execution_count": null,
   "metadata": {},
   "outputs": [],
   "source": [
    "# Melt the herbicide data into a Tidy data frame, and add in the missing column\n",
    "corn_herbicide_tidy = pd.melt(corn_herbicide, id_vars=['State'], var_name='Year', value_name='Value')\n",
    "corn_herbicide_tidy['Crop'] = 'corn'\n",
    "corn_herbicide_tidy['Crop Title'] = 'Genetically engineered (GE) corn'\n",
    "corn_herbicide_tidy['Variety'] = 'Herbicide-tolerant only'\n",
    "corn_herbicide_tidy['Unit'] = 'Percent of all corn planted'\n",
    "corn_herbicide_tidy.head()"
   ]
  },
  {
   "cell_type": "code",
   "execution_count": null,
   "metadata": {},
   "outputs": [],
   "source": [
    "# Merge the insect resistant and herbicide tolerant tidy'ed data frames\n",
    "corn_tidy = pd.concat([corn_insect_tidy, corn_herbicide_tidy])\n",
    "corn_tidy.head()"
   ]
  },
  {
   "cell_type": "code",
   "execution_count": null,
   "metadata": {},
   "outputs": [],
   "source": [
    "# Let's make sure our Year and Value are integers and not stings, but we must drop NAs first\n",
    "corn_tidy = corn_tidy.dropna()\n",
    "corn_tidy['Year'] = corn_tidy['Year'].astype('int')\n",
    "corn_tidy['Value'] = corn_tidy['Value'].astype('int')\n",
    "corn_tidy.head()"
   ]
  },
  {
   "cell_type": "code",
   "execution_count": null,
   "metadata": {},
   "outputs": [],
   "source": [
    "# Plot the percentage of GE corn produced in Iowa.\n",
    "State = 'Iowa'\n",
    "Variety = 'Insect-resistant (Bt) only'\n",
    "xticks = corn_tidy['Year'].drop_duplicates().sort_values()\n",
    "corn_tidy[(corn_tidy['State'] == State) & (corn_tidy['Variety'] == Variety)].plot(\n",
    "    kind='line', x='Year', y=\"Value\", \n",
    "    xticks=xticks, rot=45,\n",
    "    title= 'Percentage of Insect-resistant (Bt) only GE corn in Iowa'\n",
    ")"
   ]
  },
  {
   "cell_type": "code",
   "execution_count": null,
   "metadata": {
    "scrolled": true
   },
   "outputs": [],
   "source": [
    "# According to the Pandas visualization documentation (https://pandas.pydata.org/pandas-docs/stable/visualization.html),\n",
    "# to do a stacked box plot with year as the x-axis and the states values as stacked we have to rearrange\n",
    "# our data frame so that our states are the column headers and the years are the rows. We can do this with\n",
    "# the pivot command.\n",
    "cit = corn_tidy[corn_tidy['Variety'] == \"Insect-resistant (Bt) only\"]\n",
    "citp = cit[['Year', 'State', 'Value']].pivot(index='Year', columns='State')\n",
    "citp.head()"
   ]
  },
  {
   "cell_type": "code",
   "execution_count": null,
   "metadata": {},
   "outputs": [],
   "source": [
    "# Now we can do a boxplot. Unfortunately, the legend sits rith over top of the\n",
    "# plot, so we hide it.  We can use matplotlib to create a plot without it.\n",
    "citp.plot(kind='bar', rot=45, legend=False, figsize=(15, 4), \n",
    "          title='Percentage of Insect-resistant (Bt) only GE corn in all states.')"
   ]
  },
  {
   "cell_type": "code",
   "execution_count": null,
   "metadata": {},
   "outputs": [],
   "source": []
  }
 ],
 "metadata": {
  "kernelspec": {
   "display_name": "Python 3",
   "language": "python",
   "name": "python3"
  },
  "language_info": {
   "codemirror_mode": {
    "name": "ipython",
    "version": 3
   },
   "file_extension": ".py",
   "mimetype": "text/x-python",
   "name": "python",
   "nbconvert_exporter": "python",
   "pygments_lexer": "ipython3",
   "version": "3.6.3"
  }
 },
 "nbformat": 4,
 "nbformat_minor": 2
}
