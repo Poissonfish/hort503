{
 "cells": [
  {
   "cell_type": "code",
   "execution_count": 4,
   "metadata": {},
   "outputs": [],
   "source": [
    "import re"
   ]
  },
  {
   "cell_type": "code",
   "execution_count": 7,
   "metadata": {},
   "outputs": [],
   "source": [
    "emails = \"\"\"zuck26@facebook.com\n",
    "page33@google.com\n",
    "jeff42@amazon.com\"\"\""
   ]
  },
  {
   "cell_type": "code",
   "execution_count": 8,
   "metadata": {},
   "outputs": [
    {
     "data": {
      "text/plain": [
       "[('zuck26', 'facebook', 'com'),\n",
       " ('page33', 'google', 'com'),\n",
       " ('jeff42', 'amazon', 'com')]"
      ]
     },
     "execution_count": 8,
     "metadata": {},
     "output_type": "execute_result"
    }
   ],
   "source": [
    "pattern = r'(\\w+)@([A-Z0-9]+)\\.([A-Z]{2,4})'\n",
    "re.findall(pattern, emails, flags=re.IGNORECASE)"
   ]
  },
  {
   "cell_type": "code",
   "execution_count": 9,
   "metadata": {},
   "outputs": [],
   "source": [
    "text = \"\"\"Betty bought a bit of butter, But the butter was so bitter, So she bought some better butter, To make the bitter butter better.\"\"\" "
   ]
  },
  {
   "cell_type": "code",
   "execution_count": 10,
   "metadata": {},
   "outputs": [
    {
     "data": {
      "text/plain": [
       "['Betty',\n",
       " 'bought',\n",
       " 'bit',\n",
       " 'butter',\n",
       " 'But',\n",
       " 'butter',\n",
       " 'bitter',\n",
       " 'bought',\n",
       " 'better',\n",
       " 'butter',\n",
       " 'bitter',\n",
       " 'butter',\n",
       " 'better']"
      ]
     },
     "execution_count": 10,
     "metadata": {},
     "output_type": "execute_result"
    }
   ],
   "source": [
    "re.findall(r'\\bB\\w+', text, flags=re.IGNORECASE)"
   ]
  },
  {
   "cell_type": "code",
   "execution_count": 11,
   "metadata": {},
   "outputs": [],
   "source": [
    "sentence = \"\"\"A, very   very; irregular_sentence\"\"\""
   ]
  },
  {
   "cell_type": "code",
   "execution_count": 12,
   "metadata": {},
   "outputs": [
    {
     "data": {
      "text/plain": [
       "'A very very irregular sentence'"
      ]
     },
     "execution_count": 12,
     "metadata": {},
     "output_type": "execute_result"
    }
   ],
   "source": [
    "\" \".join(re.split('[;,\\s_]+', sentence))\n"
   ]
  },
  {
   "cell_type": "code",
   "execution_count": 13,
   "metadata": {},
   "outputs": [],
   "source": [
    "tweet = '''Good advice! RT @TheNextWeb: What I would do differently if I was learning to code today http://t.co/lbwej0pxOd cc: @garybernhardt #rstats'''"
   ]
  },
  {
   "cell_type": "code",
   "execution_count": 16,
   "metadata": {},
   "outputs": [
    {
     "name": "stdout",
     "output_type": "stream",
     "text": [
      "Good advice What I would do differently if I was learning to code today \n"
     ]
    }
   ],
   "source": [
    "def clean_tweet(tweet):\n",
    "    tweet = re.sub('http\\S+\\s*', '', tweet)  # remove URLs\n",
    "    tweet = re.sub('RT|cc', '', tweet)  # remove RT and cc\n",
    "    tweet = re.sub('#\\S+', '', tweet)  # remove hashtags\n",
    "    tweet = re.sub('@\\S+', '', tweet)  # remove mentions\n",
    "    tweet = re.sub('[%s]' % re.escape(\"\"\"!\"#$%&'()*+,-./:;<=>?@[\\]^_`{|}~\"\"\"), '', tweet)  # remove punctuations\n",
    "    tweet = re.sub('\\s+', ' ', tweet)  # remove extra whitespace\n",
    "    return tweet\n",
    "\n",
    "print(clean_tweet(tweet))"
   ]
  },
  {
   "cell_type": "code",
   "execution_count": 20,
   "metadata": {},
   "outputs": [
    {
     "data": {
      "text/plain": [
       "'<HTML>\\n<HEAD>\\n<TITLE>Your Title Here</TITLE>\\n</HEAD>\\n\\n<BODY>\\n<HR>\\n<a href=\"http://someurl.com\">Link Name</a>\\n<H1>This is a Header</H1>\\n<H2>This is a Medium Header</H2>\\n<P>This is a new paragraph! </P>\\n<P>This is a another paragraph!</P>\\n<B>This is a new sentence without a paragraph break, in bold italics.</B>\\n<HR>\\n</BODY>\\n</HTML>\\n'"
      ]
     },
     "execution_count": 20,
     "metadata": {},
     "output_type": "execute_result"
    }
   ],
   "source": [
    "import requests\n",
    "r = requests.get(\"https://raw.githubusercontent.com/selva86/datasets/master/sample.html\")\n",
    "r.text  # html text is contained here"
   ]
  },
  {
   "cell_type": "code",
   "execution_count": 22,
   "metadata": {},
   "outputs": [
    {
     "data": {
      "text/plain": [
       "['Your Title Here',\n",
       " 'Link Name',\n",
       " 'This is a Header',\n",
       " 'This is a Medium Header',\n",
       " 'This is a new paragraph! ',\n",
       " 'This is a another paragraph!',\n",
       " 'This is a new sentence without a paragraph break, in bold italics.']"
      ]
     },
     "execution_count": 22,
     "metadata": {},
     "output_type": "execute_result"
    }
   ],
   "source": [
    "re.findall('<.*?>(.*)</.*?>', r.text)"
   ]
  },
  {
   "cell_type": "code",
   "execution_count": null,
   "metadata": {},
   "outputs": [],
   "source": []
  }
 ],
 "metadata": {
  "kernelspec": {
   "display_name": "Python 3",
   "language": "python",
   "name": "python3"
  },
  "language_info": {
   "codemirror_mode": {
    "name": "ipython",
    "version": 3
   },
   "file_extension": ".py",
   "mimetype": "text/x-python",
   "name": "python",
   "nbconvert_exporter": "python",
   "pygments_lexer": "ipython3",
   "version": "3.6.4"
  }
 },
 "nbformat": 4,
 "nbformat_minor": 2
}
