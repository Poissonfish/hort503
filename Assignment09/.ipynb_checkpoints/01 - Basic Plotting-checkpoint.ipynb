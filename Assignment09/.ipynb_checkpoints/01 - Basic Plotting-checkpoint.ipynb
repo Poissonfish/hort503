{
 "cells": [
  {
   "cell_type": "markdown",
   "metadata": {
    "collapsed": true
   },
   "source": [
    "<table style=\"float:left; border:none\">\n",
    "   <tr style=\"border:none; background-color: #ffffff\">\n",
    "       <td style=\"border:none\">\n",
    "           <a href=\"http://bokeh.pydata.org/\">     \n",
    "           <img \n",
    "               src=\"assets/bokeh-transparent.png\" \n",
    "               style=\"width:50px\"\n",
    "           >\n",
    "           </a>    \n",
    "       </td>\n",
    "       <td style=\"border:none\">\n",
    "           <h1>Bokeh Tutorial</h1>\n",
    "       </td>\n",
    "   </tr>\n",
    "</table>\n",
    "\n",
    "<div style=\"float:right;\"><h2>01. Basic Plotting</h2></div>"
   ]
  },
  {
   "cell_type": "markdown",
   "metadata": {},
   "source": [
    "This section of the tutorial covers the [`bokeh.plotting`](http://bokeh.pydata.org/en/latest/docs/user_guide/plotting.html) \n",
    "interface. This interface is a \"mid-level\" interface, and the main idea can be described by the statement:\n",
    "\n",
    "**Starting from simple default figures (with sensible default tools, grids and axes), add markers and other shapes whose visual attributes are tied to directly data.**\n",
    "\n",
    "We will see that it is possible to customize and change all of the defaults, but having them means that it is possible to get up and running very quickly. "
   ]
  },
  {
   "cell_type": "markdown",
   "metadata": {},
   "source": [
    "# Imports and Setup\n",
    "\n",
    "When using the [`bokeh.plotting`](http://bokeh.pydata.org/en/latest/docs/user_guide/plotting.html) interface, there are a few common imports:\n",
    "* Use the [`figure`](http://bokeh.pydata.org/en/latest/docs/reference/plotting.html#bokeh.plotting.figure) function to  create new plot objects to work with. \n",
    "* Call the functions [`output_file`](http://bokeh.pydata.org/en/latest/docs/reference/resources_embedding.html#bokeh.io.output_file), [`output_notebook`](http://bokeh.pydata.org/en/latest/docs/reference/resources_embedding.html#bokeh.io.output_notebook), and [`output_server`](http://bokeh.pydata.org/en/latest/docs/reference/resources_embedding.html#bokeh.io.output_server) (possibly in combination) to tell Bokeh how to display or save output. \n",
    "* Execute [`show`](http://bokeh.pydata.org/en/latest/docs/reference/resources_embedding.html#bokeh.io.show) and  [`save`](http://bokeh.pydata.org/en/latest/docs/reference/resources_embedding.html#bokeh.io.save) to display or save plots and layouts."
   ]
  },
  {
   "cell_type": "code",
   "execution_count": 5,
   "metadata": {},
   "outputs": [],
   "source": [
    "from bokeh.io import output_notebook, show\n",
    "from bokeh.plotting import figure"
   ]
  },
  {
   "cell_type": "code",
   "execution_count": null,
   "metadata": {},
   "outputs": [],
   "source": []
  },
  {
   "cell_type": "markdown",
   "metadata": {},
   "source": [
    "In this case, we are in the Jupyter notebook, so call `output_notebook()`. We only need to call this once, and all subsequent calls to `show()` will display inline in the notebook."
   ]
  },
  {
   "cell_type": "code",
   "execution_count": 6,
   "metadata": {},
   "outputs": [
    {
     "data": {
      "text/html": [
       "\n",
       "    <div class=\"bk-root\">\n",
       "        <a href=\"https://bokeh.pydata.org\" target=\"_blank\" class=\"bk-logo bk-logo-small bk-logo-notebook\"></a>\n",
       "        <span id=\"c1481d60-5b38-4257-8181-123a44b26be5\">Loading BokehJS ...</span>\n",
       "    </div>"
      ]
     },
     "metadata": {},
     "output_type": "display_data"
    },
    {
     "data": {
      "application/javascript": [
       "\n",
       "(function(root) {\n",
       "  function now() {\n",
       "    return new Date();\n",
       "  }\n",
       "\n",
       "  var force = true;\n",
       "\n",
       "  if (typeof (root._bokeh_onload_callbacks) === \"undefined\" || force === true) {\n",
       "    root._bokeh_onload_callbacks = [];\n",
       "    root._bokeh_is_loading = undefined;\n",
       "  }\n",
       "\n",
       "  var JS_MIME_TYPE = 'application/javascript';\n",
       "  var HTML_MIME_TYPE = 'text/html';\n",
       "  var EXEC_MIME_TYPE = 'application/vnd.bokehjs_exec.v0+json';\n",
       "  var CLASS_NAME = 'output_bokeh rendered_html';\n",
       "\n",
       "  /**\n",
       "   * Render data to the DOM node\n",
       "   */\n",
       "  function render(props, node) {\n",
       "    var script = document.createElement(\"script\");\n",
       "    node.appendChild(script);\n",
       "  }\n",
       "\n",
       "  /**\n",
       "   * Handle when an output is cleared or removed\n",
       "   */\n",
       "  function handleClearOutput(event, handle) {\n",
       "    var cell = handle.cell;\n",
       "\n",
       "    var id = cell.output_area._bokeh_element_id;\n",
       "    var server_id = cell.output_area._bokeh_server_id;\n",
       "    // Clean up Bokeh references\n",
       "    if (id !== undefined) {\n",
       "      Bokeh.index[id].model.document.clear();\n",
       "      delete Bokeh.index[id];\n",
       "    }\n",
       "\n",
       "    if (server_id !== undefined) {\n",
       "      // Clean up Bokeh references\n",
       "      var cmd = \"from bokeh.io.state import curstate; print(curstate().uuid_to_server['\" + server_id + \"'].get_sessions()[0].document.roots[0]._id)\";\n",
       "      cell.notebook.kernel.execute(cmd, {\n",
       "        iopub: {\n",
       "          output: function(msg) {\n",
       "            var element_id = msg.content.text.trim();\n",
       "            Bokeh.index[element_id].model.document.clear();\n",
       "            delete Bokeh.index[element_id];\n",
       "          }\n",
       "        }\n",
       "      });\n",
       "      // Destroy server and session\n",
       "      var cmd = \"import bokeh.io.notebook as ion; ion.destroy_server('\" + server_id + \"')\";\n",
       "      cell.notebook.kernel.execute(cmd);\n",
       "    }\n",
       "  }\n",
       "\n",
       "  /**\n",
       "   * Handle when a new output is added\n",
       "   */\n",
       "  function handleAddOutput(event, handle) {\n",
       "    var output_area = handle.output_area;\n",
       "    var output = handle.output;\n",
       "\n",
       "    // limit handleAddOutput to display_data with EXEC_MIME_TYPE content only\n",
       "    if ((output.output_type != \"display_data\") || (!output.data.hasOwnProperty(EXEC_MIME_TYPE))) {\n",
       "      return\n",
       "    }\n",
       "\n",
       "    var toinsert = output_area.element.find(\".\" + CLASS_NAME.split(' ')[0]);\n",
       "\n",
       "    if (output.metadata[EXEC_MIME_TYPE][\"id\"] !== undefined) {\n",
       "      toinsert[0].firstChild.textContent = output.data[JS_MIME_TYPE];\n",
       "      // store reference to embed id on output_area\n",
       "      output_area._bokeh_element_id = output.metadata[EXEC_MIME_TYPE][\"id\"];\n",
       "    }\n",
       "    if (output.metadata[EXEC_MIME_TYPE][\"server_id\"] !== undefined) {\n",
       "      var bk_div = document.createElement(\"div\");\n",
       "      bk_div.innerHTML = output.data[HTML_MIME_TYPE];\n",
       "      var script_attrs = bk_div.children[0].attributes;\n",
       "      for (var i = 0; i < script_attrs.length; i++) {\n",
       "        toinsert[0].firstChild.setAttribute(script_attrs[i].name, script_attrs[i].value);\n",
       "      }\n",
       "      // store reference to server id on output_area\n",
       "      output_area._bokeh_server_id = output.metadata[EXEC_MIME_TYPE][\"server_id\"];\n",
       "    }\n",
       "  }\n",
       "\n",
       "  function register_renderer(events, OutputArea) {\n",
       "\n",
       "    function append_mime(data, metadata, element) {\n",
       "      // create a DOM node to render to\n",
       "      var toinsert = this.create_output_subarea(\n",
       "        metadata,\n",
       "        CLASS_NAME,\n",
       "        EXEC_MIME_TYPE\n",
       "      );\n",
       "      this.keyboard_manager.register_events(toinsert);\n",
       "      // Render to node\n",
       "      var props = {data: data, metadata: metadata[EXEC_MIME_TYPE]};\n",
       "      render(props, toinsert[0]);\n",
       "      element.append(toinsert);\n",
       "      return toinsert\n",
       "    }\n",
       "\n",
       "    /* Handle when an output is cleared or removed */\n",
       "    events.on('clear_output.CodeCell', handleClearOutput);\n",
       "    events.on('delete.Cell', handleClearOutput);\n",
       "\n",
       "    /* Handle when a new output is added */\n",
       "    events.on('output_added.OutputArea', handleAddOutput);\n",
       "\n",
       "    /**\n",
       "     * Register the mime type and append_mime function with output_area\n",
       "     */\n",
       "    OutputArea.prototype.register_mime_type(EXEC_MIME_TYPE, append_mime, {\n",
       "      /* Is output safe? */\n",
       "      safe: true,\n",
       "      /* Index of renderer in `output_area.display_order` */\n",
       "      index: 0\n",
       "    });\n",
       "  }\n",
       "\n",
       "  // register the mime type if in Jupyter Notebook environment and previously unregistered\n",
       "  if (root.Jupyter !== undefined) {\n",
       "    var events = require('base/js/events');\n",
       "    var OutputArea = require('notebook/js/outputarea').OutputArea;\n",
       "\n",
       "    if (OutputArea.prototype.mime_types().indexOf(EXEC_MIME_TYPE) == -1) {\n",
       "      register_renderer(events, OutputArea);\n",
       "    }\n",
       "  }\n",
       "\n",
       "  \n",
       "  if (typeof (root._bokeh_timeout) === \"undefined\" || force === true) {\n",
       "    root._bokeh_timeout = Date.now() + 5000;\n",
       "    root._bokeh_failed_load = false;\n",
       "  }\n",
       "\n",
       "  var NB_LOAD_WARNING = {'data': {'text/html':\n",
       "     \"<div style='background-color: #fdd'>\\n\"+\n",
       "     \"<p>\\n\"+\n",
       "     \"BokehJS does not appear to have successfully loaded. If loading BokehJS from CDN, this \\n\"+\n",
       "     \"may be due to a slow or bad network connection. Possible fixes:\\n\"+\n",
       "     \"</p>\\n\"+\n",
       "     \"<ul>\\n\"+\n",
       "     \"<li>re-rerun `output_notebook()` to attempt to load from CDN again, or</li>\\n\"+\n",
       "     \"<li>use INLINE resources instead, as so:</li>\\n\"+\n",
       "     \"</ul>\\n\"+\n",
       "     \"<code>\\n\"+\n",
       "     \"from bokeh.resources import INLINE\\n\"+\n",
       "     \"output_notebook(resources=INLINE)\\n\"+\n",
       "     \"</code>\\n\"+\n",
       "     \"</div>\"}};\n",
       "\n",
       "  function display_loaded() {\n",
       "    var el = document.getElementById(\"c1481d60-5b38-4257-8181-123a44b26be5\");\n",
       "    if (el != null) {\n",
       "      el.textContent = \"BokehJS is loading...\";\n",
       "    }\n",
       "    if (root.Bokeh !== undefined) {\n",
       "      if (el != null) {\n",
       "        el.textContent = \"BokehJS \" + root.Bokeh.version + \" successfully loaded.\";\n",
       "      }\n",
       "    } else if (Date.now() < root._bokeh_timeout) {\n",
       "      setTimeout(display_loaded, 100)\n",
       "    }\n",
       "  }\n",
       "\n",
       "\n",
       "  function run_callbacks() {\n",
       "    try {\n",
       "      root._bokeh_onload_callbacks.forEach(function(callback) { callback() });\n",
       "    }\n",
       "    finally {\n",
       "      delete root._bokeh_onload_callbacks\n",
       "    }\n",
       "    console.info(\"Bokeh: all callbacks have finished\");\n",
       "  }\n",
       "\n",
       "  function load_libs(js_urls, callback) {\n",
       "    root._bokeh_onload_callbacks.push(callback);\n",
       "    if (root._bokeh_is_loading > 0) {\n",
       "      console.log(\"Bokeh: BokehJS is being loaded, scheduling callback at\", now());\n",
       "      return null;\n",
       "    }\n",
       "    if (js_urls == null || js_urls.length === 0) {\n",
       "      run_callbacks();\n",
       "      return null;\n",
       "    }\n",
       "    console.log(\"Bokeh: BokehJS not loaded, scheduling load and callback at\", now());\n",
       "    root._bokeh_is_loading = js_urls.length;\n",
       "    for (var i = 0; i < js_urls.length; i++) {\n",
       "      var url = js_urls[i];\n",
       "      var s = document.createElement('script');\n",
       "      s.src = url;\n",
       "      s.async = false;\n",
       "      s.onreadystatechange = s.onload = function() {\n",
       "        root._bokeh_is_loading--;\n",
       "        if (root._bokeh_is_loading === 0) {\n",
       "          console.log(\"Bokeh: all BokehJS libraries loaded\");\n",
       "          run_callbacks()\n",
       "        }\n",
       "      };\n",
       "      s.onerror = function() {\n",
       "        console.warn(\"failed to load library \" + url);\n",
       "      };\n",
       "      console.log(\"Bokeh: injecting script tag for BokehJS library: \", url);\n",
       "      document.getElementsByTagName(\"head\")[0].appendChild(s);\n",
       "    }\n",
       "  };var element = document.getElementById(\"c1481d60-5b38-4257-8181-123a44b26be5\");\n",
       "  if (element == null) {\n",
       "    console.log(\"Bokeh: ERROR: autoload.js configured with elementid 'c1481d60-5b38-4257-8181-123a44b26be5' but no matching script tag was found. \")\n",
       "    return false;\n",
       "  }\n",
       "\n",
       "  var js_urls = [\"https://cdn.pydata.org/bokeh/release/bokeh-0.12.14.min.js\", \"https://cdn.pydata.org/bokeh/release/bokeh-widgets-0.12.14.min.js\", \"https://cdn.pydata.org/bokeh/release/bokeh-tables-0.12.14.min.js\", \"https://cdn.pydata.org/bokeh/release/bokeh-gl-0.12.14.min.js\"];\n",
       "\n",
       "  var inline_js = [\n",
       "    function(Bokeh) {\n",
       "      Bokeh.set_log_level(\"info\");\n",
       "    },\n",
       "    \n",
       "    function(Bokeh) {\n",
       "      \n",
       "    },\n",
       "    function(Bokeh) {\n",
       "      console.log(\"Bokeh: injecting CSS: https://cdn.pydata.org/bokeh/release/bokeh-0.12.14.min.css\");\n",
       "      Bokeh.embed.inject_css(\"https://cdn.pydata.org/bokeh/release/bokeh-0.12.14.min.css\");\n",
       "      console.log(\"Bokeh: injecting CSS: https://cdn.pydata.org/bokeh/release/bokeh-widgets-0.12.14.min.css\");\n",
       "      Bokeh.embed.inject_css(\"https://cdn.pydata.org/bokeh/release/bokeh-widgets-0.12.14.min.css\");\n",
       "      console.log(\"Bokeh: injecting CSS: https://cdn.pydata.org/bokeh/release/bokeh-tables-0.12.14.min.css\");\n",
       "      Bokeh.embed.inject_css(\"https://cdn.pydata.org/bokeh/release/bokeh-tables-0.12.14.min.css\");\n",
       "    }\n",
       "  ];\n",
       "\n",
       "  function run_inline_js() {\n",
       "    \n",
       "    if ((root.Bokeh !== undefined) || (force === true)) {\n",
       "      for (var i = 0; i < inline_js.length; i++) {\n",
       "        inline_js[i].call(root, root.Bokeh);\n",
       "      }if (force === true) {\n",
       "        display_loaded();\n",
       "      }} else if (Date.now() < root._bokeh_timeout) {\n",
       "      setTimeout(run_inline_js, 100);\n",
       "    } else if (!root._bokeh_failed_load) {\n",
       "      console.log(\"Bokeh: BokehJS failed to load within specified timeout.\");\n",
       "      root._bokeh_failed_load = true;\n",
       "    } else if (force !== true) {\n",
       "      var cell = $(document.getElementById(\"c1481d60-5b38-4257-8181-123a44b26be5\")).parents('.cell').data().cell;\n",
       "      cell.output_area.append_execute_result(NB_LOAD_WARNING)\n",
       "    }\n",
       "\n",
       "  }\n",
       "\n",
       "  if (root._bokeh_is_loading === 0) {\n",
       "    console.log(\"Bokeh: BokehJS loaded, going straight to plotting\");\n",
       "    run_inline_js();\n",
       "  } else {\n",
       "    load_libs(js_urls, function() {\n",
       "      console.log(\"Bokeh: BokehJS plotting callback run at\", now());\n",
       "      run_inline_js();\n",
       "    });\n",
       "  }\n",
       "}(window));"
      ],
      "application/vnd.bokehjs_load.v0+json": "\n(function(root) {\n  function now() {\n    return new Date();\n  }\n\n  var force = true;\n\n  if (typeof (root._bokeh_onload_callbacks) === \"undefined\" || force === true) {\n    root._bokeh_onload_callbacks = [];\n    root._bokeh_is_loading = undefined;\n  }\n\n  \n\n  \n  if (typeof (root._bokeh_timeout) === \"undefined\" || force === true) {\n    root._bokeh_timeout = Date.now() + 5000;\n    root._bokeh_failed_load = false;\n  }\n\n  var NB_LOAD_WARNING = {'data': {'text/html':\n     \"<div style='background-color: #fdd'>\\n\"+\n     \"<p>\\n\"+\n     \"BokehJS does not appear to have successfully loaded. If loading BokehJS from CDN, this \\n\"+\n     \"may be due to a slow or bad network connection. Possible fixes:\\n\"+\n     \"</p>\\n\"+\n     \"<ul>\\n\"+\n     \"<li>re-rerun `output_notebook()` to attempt to load from CDN again, or</li>\\n\"+\n     \"<li>use INLINE resources instead, as so:</li>\\n\"+\n     \"</ul>\\n\"+\n     \"<code>\\n\"+\n     \"from bokeh.resources import INLINE\\n\"+\n     \"output_notebook(resources=INLINE)\\n\"+\n     \"</code>\\n\"+\n     \"</div>\"}};\n\n  function display_loaded() {\n    var el = document.getElementById(\"c1481d60-5b38-4257-8181-123a44b26be5\");\n    if (el != null) {\n      el.textContent = \"BokehJS is loading...\";\n    }\n    if (root.Bokeh !== undefined) {\n      if (el != null) {\n        el.textContent = \"BokehJS \" + root.Bokeh.version + \" successfully loaded.\";\n      }\n    } else if (Date.now() < root._bokeh_timeout) {\n      setTimeout(display_loaded, 100)\n    }\n  }\n\n\n  function run_callbacks() {\n    try {\n      root._bokeh_onload_callbacks.forEach(function(callback) { callback() });\n    }\n    finally {\n      delete root._bokeh_onload_callbacks\n    }\n    console.info(\"Bokeh: all callbacks have finished\");\n  }\n\n  function load_libs(js_urls, callback) {\n    root._bokeh_onload_callbacks.push(callback);\n    if (root._bokeh_is_loading > 0) {\n      console.log(\"Bokeh: BokehJS is being loaded, scheduling callback at\", now());\n      return null;\n    }\n    if (js_urls == null || js_urls.length === 0) {\n      run_callbacks();\n      return null;\n    }\n    console.log(\"Bokeh: BokehJS not loaded, scheduling load and callback at\", now());\n    root._bokeh_is_loading = js_urls.length;\n    for (var i = 0; i < js_urls.length; i++) {\n      var url = js_urls[i];\n      var s = document.createElement('script');\n      s.src = url;\n      s.async = false;\n      s.onreadystatechange = s.onload = function() {\n        root._bokeh_is_loading--;\n        if (root._bokeh_is_loading === 0) {\n          console.log(\"Bokeh: all BokehJS libraries loaded\");\n          run_callbacks()\n        }\n      };\n      s.onerror = function() {\n        console.warn(\"failed to load library \" + url);\n      };\n      console.log(\"Bokeh: injecting script tag for BokehJS library: \", url);\n      document.getElementsByTagName(\"head\")[0].appendChild(s);\n    }\n  };var element = document.getElementById(\"c1481d60-5b38-4257-8181-123a44b26be5\");\n  if (element == null) {\n    console.log(\"Bokeh: ERROR: autoload.js configured with elementid 'c1481d60-5b38-4257-8181-123a44b26be5' but no matching script tag was found. \")\n    return false;\n  }\n\n  var js_urls = [\"https://cdn.pydata.org/bokeh/release/bokeh-0.12.14.min.js\", \"https://cdn.pydata.org/bokeh/release/bokeh-widgets-0.12.14.min.js\", \"https://cdn.pydata.org/bokeh/release/bokeh-tables-0.12.14.min.js\", \"https://cdn.pydata.org/bokeh/release/bokeh-gl-0.12.14.min.js\"];\n\n  var inline_js = [\n    function(Bokeh) {\n      Bokeh.set_log_level(\"info\");\n    },\n    \n    function(Bokeh) {\n      \n    },\n    function(Bokeh) {\n      console.log(\"Bokeh: injecting CSS: https://cdn.pydata.org/bokeh/release/bokeh-0.12.14.min.css\");\n      Bokeh.embed.inject_css(\"https://cdn.pydata.org/bokeh/release/bokeh-0.12.14.min.css\");\n      console.log(\"Bokeh: injecting CSS: https://cdn.pydata.org/bokeh/release/bokeh-widgets-0.12.14.min.css\");\n      Bokeh.embed.inject_css(\"https://cdn.pydata.org/bokeh/release/bokeh-widgets-0.12.14.min.css\");\n      console.log(\"Bokeh: injecting CSS: https://cdn.pydata.org/bokeh/release/bokeh-tables-0.12.14.min.css\");\n      Bokeh.embed.inject_css(\"https://cdn.pydata.org/bokeh/release/bokeh-tables-0.12.14.min.css\");\n    }\n  ];\n\n  function run_inline_js() {\n    \n    if ((root.Bokeh !== undefined) || (force === true)) {\n      for (var i = 0; i < inline_js.length; i++) {\n        inline_js[i].call(root, root.Bokeh);\n      }if (force === true) {\n        display_loaded();\n      }} else if (Date.now() < root._bokeh_timeout) {\n      setTimeout(run_inline_js, 100);\n    } else if (!root._bokeh_failed_load) {\n      console.log(\"Bokeh: BokehJS failed to load within specified timeout.\");\n      root._bokeh_failed_load = true;\n    } else if (force !== true) {\n      var cell = $(document.getElementById(\"c1481d60-5b38-4257-8181-123a44b26be5\")).parents('.cell').data().cell;\n      cell.output_area.append_execute_result(NB_LOAD_WARNING)\n    }\n\n  }\n\n  if (root._bokeh_is_loading === 0) {\n    console.log(\"Bokeh: BokehJS loaded, going straight to plotting\");\n    run_inline_js();\n  } else {\n    load_libs(js_urls, function() {\n      console.log(\"Bokeh: BokehJS plotting callback run at\", now());\n      run_inline_js();\n    });\n  }\n}(window));"
     },
     "metadata": {},
     "output_type": "display_data"
    }
   ],
   "source": [
    "output_notebook()"
   ]
  },
  {
   "cell_type": "markdown",
   "metadata": {},
   "source": [
    "# Some Basic Scatter Plots\n",
    "\n",
    "In this section you will see how to use Bokeh's various marker types to create simple scatter plots. "
   ]
  },
  {
   "cell_type": "code",
   "execution_count": 7,
   "metadata": {},
   "outputs": [
    {
     "data": {
      "text/html": [
       "\n",
       "<div class=\"bk-root\">\n",
       "    <div class=\"bk-plotdiv\" id=\"cb5045d7-cc9a-4ce7-a152-2521fda3233a\"></div>\n",
       "</div>"
      ]
     },
     "metadata": {},
     "output_type": "display_data"
    },
    {
     "data": {
      "application/javascript": [
       "(function(root) {\n",
       "  function embed_document(root) {\n",
       "    \n",
       "  var docs_json = {\"6b828e37-4a28-4535-a16f-7b95a47e119e\":{\"roots\":{\"references\":[{\"attributes\":{},\"id\":\"f4cbb743-81c0-4f47-81e8-6b50d08271a6\",\"type\":\"LinearScale\"},{\"attributes\":{},\"id\":\"1f642462-a997-4352-934f-f8d106cddc89\",\"type\":\"LinearScale\"},{\"attributes\":{},\"id\":\"37f9f60b-94bb-41d8-a8a8-79b77e9be354\",\"type\":\"BasicTickFormatter\"},{\"attributes\":{\"source\":{\"id\":\"83e9f906-08dd-4b4d-9094-027172d97937\",\"type\":\"ColumnDataSource\"}},\"id\":\"7b2f6a00-6dc5-4f6d-b4c5-164fff71f8e6\",\"type\":\"CDSView\"},{\"attributes\":{\"formatter\":{\"id\":\"9c19818a-2476-42a9-bf70-6134ce28249c\",\"type\":\"BasicTickFormatter\"},\"plot\":{\"id\":\"228dcc52-d74b-47c6-9465-0543ffb1ce5e\",\"subtype\":\"Figure\",\"type\":\"Plot\"},\"ticker\":{\"id\":\"5d101b1a-a03a-4848-bf58-84eeaa1ffbef\",\"type\":\"BasicTicker\"}},\"id\":\"cbc88dff-7a09-4250-9e77-c215a2c21646\",\"type\":\"LinearAxis\"},{\"attributes\":{},\"id\":\"5d101b1a-a03a-4848-bf58-84eeaa1ffbef\",\"type\":\"BasicTicker\"},{\"attributes\":{\"plot\":{\"id\":\"228dcc52-d74b-47c6-9465-0543ffb1ce5e\",\"subtype\":\"Figure\",\"type\":\"Plot\"},\"ticker\":{\"id\":\"5d101b1a-a03a-4848-bf58-84eeaa1ffbef\",\"type\":\"BasicTicker\"}},\"id\":\"6ef1b900-6c87-4b02-9c95-3658f4140bfb\",\"type\":\"Grid\"},{\"attributes\":{\"formatter\":{\"id\":\"37f9f60b-94bb-41d8-a8a8-79b77e9be354\",\"type\":\"BasicTickFormatter\"},\"plot\":{\"id\":\"228dcc52-d74b-47c6-9465-0543ffb1ce5e\",\"subtype\":\"Figure\",\"type\":\"Plot\"},\"ticker\":{\"id\":\"f692e665-ef93-479c-820d-e27401a3ae2a\",\"type\":\"BasicTicker\"}},\"id\":\"3cb37f78-cdb6-42fa-ba39-909f31b376f9\",\"type\":\"LinearAxis\"},{\"attributes\":{},\"id\":\"f692e665-ef93-479c-820d-e27401a3ae2a\",\"type\":\"BasicTicker\"},{\"attributes\":{},\"id\":\"9c19818a-2476-42a9-bf70-6134ce28249c\",\"type\":\"BasicTickFormatter\"},{\"attributes\":{\"plot\":null,\"text\":\"\"},\"id\":\"7cae6e59-d2e6-4295-a474-4bcf7cc80548\",\"type\":\"Title\"},{\"attributes\":{\"below\":[{\"id\":\"cbc88dff-7a09-4250-9e77-c215a2c21646\",\"type\":\"LinearAxis\"}],\"left\":[{\"id\":\"3cb37f78-cdb6-42fa-ba39-909f31b376f9\",\"type\":\"LinearAxis\"}],\"plot_height\":400,\"plot_width\":400,\"renderers\":[{\"id\":\"cbc88dff-7a09-4250-9e77-c215a2c21646\",\"type\":\"LinearAxis\"},{\"id\":\"6ef1b900-6c87-4b02-9c95-3658f4140bfb\",\"type\":\"Grid\"},{\"id\":\"3cb37f78-cdb6-42fa-ba39-909f31b376f9\",\"type\":\"LinearAxis\"},{\"id\":\"fb891df2-91b6-43e9-9a6c-9caa33ce30ed\",\"type\":\"Grid\"},{\"id\":\"cdd1d849-7677-4a1e-afe8-2eb01c764255\",\"type\":\"BoxAnnotation\"},{\"id\":\"a3c7553d-b0b2-4063-9d6c-73f03b15b644\",\"type\":\"GlyphRenderer\"}],\"title\":{\"id\":\"7cae6e59-d2e6-4295-a474-4bcf7cc80548\",\"type\":\"Title\"},\"toolbar\":{\"id\":\"e1897a48-7133-494f-9994-2511f5401181\",\"type\":\"Toolbar\"},\"x_range\":{\"id\":\"2becdee8-74f2-4e8b-84e9-54950f4430cb\",\"type\":\"DataRange1d\"},\"x_scale\":{\"id\":\"f4cbb743-81c0-4f47-81e8-6b50d08271a6\",\"type\":\"LinearScale\"},\"y_range\":{\"id\":\"7ecfceb0-66ff-4c56-96fc-6e79fdcd1c1f\",\"type\":\"DataRange1d\"},\"y_scale\":{\"id\":\"1f642462-a997-4352-934f-f8d106cddc89\",\"type\":\"LinearScale\"}},\"id\":\"228dcc52-d74b-47c6-9465-0543ffb1ce5e\",\"subtype\":\"Figure\",\"type\":\"Plot\"},{\"attributes\":{\"callback\":null,\"column_names\":[\"x\",\"y\"],\"data\":{\"x\":[1,2,3,4,5],\"y\":[6,7,2,4,5]}},\"id\":\"83e9f906-08dd-4b4d-9094-027172d97937\",\"type\":\"ColumnDataSource\"},{\"attributes\":{\"data_source\":{\"id\":\"83e9f906-08dd-4b4d-9094-027172d97937\",\"type\":\"ColumnDataSource\"},\"glyph\":{\"id\":\"06a20d65-47fc-4bbf-b7f3-d4a0717bddfb\",\"type\":\"Circle\"},\"hover_glyph\":null,\"muted_glyph\":null,\"nonselection_glyph\":{\"id\":\"0800e075-9830-4c31-83bb-2bc922e1c184\",\"type\":\"Circle\"},\"selection_glyph\":null,\"view\":{\"id\":\"7b2f6a00-6dc5-4f6d-b4c5-164fff71f8e6\",\"type\":\"CDSView\"}},\"id\":\"a3c7553d-b0b2-4063-9d6c-73f03b15b644\",\"type\":\"GlyphRenderer\"},{\"attributes\":{},\"id\":\"5850cf4e-2996-4383-86c7-e1187b981734\",\"type\":\"PanTool\"},{\"attributes\":{\"active_drag\":\"auto\",\"active_inspect\":\"auto\",\"active_scroll\":\"auto\",\"active_tap\":\"auto\",\"tools\":[{\"id\":\"5850cf4e-2996-4383-86c7-e1187b981734\",\"type\":\"PanTool\"},{\"id\":\"1d9154e3-7e09-4a11-afd0-b366ec223cf7\",\"type\":\"WheelZoomTool\"},{\"id\":\"3cd65b45-b8f3-4db8-8430-d817d707a5e3\",\"type\":\"BoxZoomTool\"},{\"id\":\"cb374eae-9441-430a-8e1b-0223949d4046\",\"type\":\"SaveTool\"},{\"id\":\"98995099-d491-47a9-9ad7-7aa219e231bc\",\"type\":\"ResetTool\"},{\"id\":\"181dbf77-4b15-40d8-8ebe-bc19bd15d9fb\",\"type\":\"HelpTool\"}]},\"id\":\"e1897a48-7133-494f-9994-2511f5401181\",\"type\":\"Toolbar\"},{\"attributes\":{\"fill_alpha\":{\"value\":0.1},\"fill_color\":{\"value\":\"#1f77b4\"},\"line_alpha\":{\"value\":0.1},\"line_color\":{\"value\":\"#1f77b4\"},\"size\":{\"units\":\"screen\",\"value\":15},\"x\":{\"field\":\"x\"},\"y\":{\"field\":\"y\"}},\"id\":\"0800e075-9830-4c31-83bb-2bc922e1c184\",\"type\":\"Circle\"},{\"attributes\":{},\"id\":\"1d9154e3-7e09-4a11-afd0-b366ec223cf7\",\"type\":\"WheelZoomTool\"},{\"attributes\":{\"callback\":null},\"id\":\"2becdee8-74f2-4e8b-84e9-54950f4430cb\",\"type\":\"DataRange1d\"},{\"attributes\":{\"overlay\":{\"id\":\"cdd1d849-7677-4a1e-afe8-2eb01c764255\",\"type\":\"BoxAnnotation\"}},\"id\":\"3cd65b45-b8f3-4db8-8430-d817d707a5e3\",\"type\":\"BoxZoomTool\"},{\"attributes\":{\"dimension\":1,\"plot\":{\"id\":\"228dcc52-d74b-47c6-9465-0543ffb1ce5e\",\"subtype\":\"Figure\",\"type\":\"Plot\"},\"ticker\":{\"id\":\"f692e665-ef93-479c-820d-e27401a3ae2a\",\"type\":\"BasicTicker\"}},\"id\":\"fb891df2-91b6-43e9-9a6c-9caa33ce30ed\",\"type\":\"Grid\"},{\"attributes\":{\"fill_alpha\":{\"value\":0.5},\"fill_color\":{\"value\":\"orange\"},\"line_color\":{\"value\":\"navy\"},\"size\":{\"units\":\"screen\",\"value\":15},\"x\":{\"field\":\"x\"},\"y\":{\"field\":\"y\"}},\"id\":\"06a20d65-47fc-4bbf-b7f3-d4a0717bddfb\",\"type\":\"Circle\"},{\"attributes\":{},\"id\":\"cb374eae-9441-430a-8e1b-0223949d4046\",\"type\":\"SaveTool\"},{\"attributes\":{\"bottom_units\":\"screen\",\"fill_alpha\":{\"value\":0.5},\"fill_color\":{\"value\":\"lightgrey\"},\"left_units\":\"screen\",\"level\":\"overlay\",\"line_alpha\":{\"value\":1.0},\"line_color\":{\"value\":\"black\"},\"line_dash\":[4,4],\"line_width\":{\"value\":2},\"plot\":null,\"render_mode\":\"css\",\"right_units\":\"screen\",\"top_units\":\"screen\"},\"id\":\"cdd1d849-7677-4a1e-afe8-2eb01c764255\",\"type\":\"BoxAnnotation\"},{\"attributes\":{},\"id\":\"98995099-d491-47a9-9ad7-7aa219e231bc\",\"type\":\"ResetTool\"},{\"attributes\":{},\"id\":\"181dbf77-4b15-40d8-8ebe-bc19bd15d9fb\",\"type\":\"HelpTool\"},{\"attributes\":{\"callback\":null},\"id\":\"7ecfceb0-66ff-4c56-96fc-6e79fdcd1c1f\",\"type\":\"DataRange1d\"}],\"root_ids\":[\"228dcc52-d74b-47c6-9465-0543ffb1ce5e\"]},\"title\":\"Bokeh Application\",\"version\":\"0.12.14\"}};\n",
       "  var render_items = [{\"docid\":\"6b828e37-4a28-4535-a16f-7b95a47e119e\",\"elementid\":\"cb5045d7-cc9a-4ce7-a152-2521fda3233a\",\"modelid\":\"228dcc52-d74b-47c6-9465-0543ffb1ce5e\"}];\n",
       "  root.Bokeh.embed.embed_items_notebook(docs_json, render_items);\n",
       "\n",
       "  }\n",
       "  if (root.Bokeh !== undefined) {\n",
       "    embed_document(root);\n",
       "  } else {\n",
       "    var attempts = 0;\n",
       "    var timer = setInterval(function(root) {\n",
       "      if (root.Bokeh !== undefined) {\n",
       "        embed_document(root);\n",
       "        clearInterval(timer);\n",
       "      }\n",
       "      attempts++;\n",
       "      if (attempts > 100) {\n",
       "        console.log(\"Bokeh: ERROR: Unable to run BokehJS code because BokehJS library is missing\")\n",
       "        clearInterval(timer);\n",
       "      }\n",
       "    }, 10, root)\n",
       "  }\n",
       "})(window);"
      ],
      "application/vnd.bokehjs_exec.v0+json": ""
     },
     "metadata": {
      "application/vnd.bokehjs_exec.v0+json": {
       "id": "228dcc52-d74b-47c6-9465-0543ffb1ce5e"
      }
     },
     "output_type": "display_data"
    }
   ],
   "source": [
    "# create a new plot with default tools, using figure\n",
    "p = figure(plot_width=400, plot_height=400)\n",
    "\n",
    "# add a circle renderer with a size, color, and alpha\n",
    "p.circle([1, 2, 3, 4, 5], [6, 7, 2, 4, 5], size=15, line_color=\"navy\", fill_color=\"orange\", fill_alpha=0.5)\n",
    "\n",
    "show(p) # show the results"
   ]
  },
  {
   "cell_type": "markdown",
   "metadata": {},
   "source": [
    "All Bokeh markers accept `size` (measured in screen space units) as a property. Circles also have `radius` (measured in \"data\" space units). "
   ]
  },
  {
   "cell_type": "code",
   "execution_count": 12,
   "metadata": {},
   "outputs": [
    {
     "data": {
      "text/html": [
       "\n",
       "<div class=\"bk-root\">\n",
       "    <div class=\"bk-plotdiv\" id=\"3e17b002-ff33-4f5b-b7f0-2dc38fcaa6ed\"></div>\n",
       "</div>"
      ]
     },
     "metadata": {},
     "output_type": "display_data"
    },
    {
     "data": {
      "application/javascript": [
       "(function(root) {\n",
       "  function embed_document(root) {\n",
       "    \n",
       "  var docs_json = {\"74acb2e7-b987-4862-8679-0003220680f3\":{\"roots\":{\"references\":[{\"attributes\":{\"bottom_units\":\"screen\",\"fill_alpha\":{\"value\":0.5},\"fill_color\":{\"value\":\"lightgrey\"},\"left_units\":\"screen\",\"level\":\"overlay\",\"line_alpha\":{\"value\":1.0},\"line_color\":{\"value\":\"black\"},\"line_dash\":[4,4],\"line_width\":{\"value\":2},\"plot\":null,\"render_mode\":\"css\",\"right_units\":\"screen\",\"top_units\":\"screen\"},\"id\":\"7d9a46d9-a9b0-4bda-b265-95039fa604f2\",\"type\":\"BoxAnnotation\"},{\"attributes\":{\"below\":[{\"id\":\"24565065-b48f-48ed-9c88-ccc40521a8c1\",\"type\":\"LinearAxis\"}],\"left\":[{\"id\":\"51adbb87-e523-4fc0-a58f-2e7e4e2bb60e\",\"type\":\"LinearAxis\"}],\"plot_height\":400,\"plot_width\":400,\"renderers\":[{\"id\":\"24565065-b48f-48ed-9c88-ccc40521a8c1\",\"type\":\"LinearAxis\"},{\"id\":\"4b736a81-7d83-4b18-b519-a2009908df41\",\"type\":\"Grid\"},{\"id\":\"51adbb87-e523-4fc0-a58f-2e7e4e2bb60e\",\"type\":\"LinearAxis\"},{\"id\":\"c3b847a0-41af-4a14-9fce-6d5056d03cdb\",\"type\":\"Grid\"},{\"id\":\"7d9a46d9-a9b0-4bda-b265-95039fa604f2\",\"type\":\"BoxAnnotation\"},{\"id\":\"a3c2d8a4-0406-4faf-91f9-765187e02f66\",\"type\":\"GlyphRenderer\"}],\"title\":{\"id\":\"c18fd74a-8214-491e-b26c-1b2c39896a3b\",\"type\":\"Title\"},\"toolbar\":{\"id\":\"20407cc1-86ed-4e07-91df-fab37a8281b6\",\"type\":\"Toolbar\"},\"x_range\":{\"id\":\"dfaa7b9f-d290-4e31-86ef-44a8f9c246e9\",\"type\":\"DataRange1d\"},\"x_scale\":{\"id\":\"20c3638e-7f78-4f41-98f3-ecae20d56dc7\",\"type\":\"LinearScale\"},\"y_range\":{\"id\":\"0f651808-8bbd-4b36-a487-0d0e8fd226b7\",\"type\":\"DataRange1d\"},\"y_scale\":{\"id\":\"61e7c317-899d-4bba-824e-afb591fedee7\",\"type\":\"LinearScale\"}},\"id\":\"f53f74a4-68eb-4b9a-919e-e89876cd6bdb\",\"subtype\":\"Figure\",\"type\":\"Plot\"},{\"attributes\":{\"fill_alpha\":{\"value\":0.5},\"fill_color\":{\"value\":\"orange\"},\"line_color\":{\"value\":\"navy\"},\"radius\":{\"units\":\"data\",\"value\":0.1},\"x\":{\"field\":\"x\"},\"y\":{\"field\":\"y\"}},\"id\":\"a89e2701-ea3e-4e6a-b180-b0ca496ed5d3\",\"type\":\"Circle\"},{\"attributes\":{},\"id\":\"a9e8af02-32d9-41a8-993f-2cf7c88fe3c1\",\"type\":\"BasicTickFormatter\"},{\"attributes\":{\"callback\":null},\"id\":\"0f651808-8bbd-4b36-a487-0d0e8fd226b7\",\"type\":\"DataRange1d\"},{\"attributes\":{\"dimension\":1,\"plot\":{\"id\":\"f53f74a4-68eb-4b9a-919e-e89876cd6bdb\",\"subtype\":\"Figure\",\"type\":\"Plot\"},\"ticker\":{\"id\":\"69d9b36e-0324-4820-9155-ff35bb517e35\",\"type\":\"BasicTicker\"}},\"id\":\"c3b847a0-41af-4a14-9fce-6d5056d03cdb\",\"type\":\"Grid\"},{\"attributes\":{\"callback\":null,\"column_names\":[\"x\",\"y\"],\"data\":{\"x\":[1,2,3,4,5],\"y\":[6,7,2,4,5]}},\"id\":\"9c0359a6-1db7-4cf4-81c8-44c2c728ab68\",\"type\":\"ColumnDataSource\"},{\"attributes\":{\"overlay\":{\"id\":\"7d9a46d9-a9b0-4bda-b265-95039fa604f2\",\"type\":\"BoxAnnotation\"}},\"id\":\"e2fe1460-7167-4f66-ae3e-b1ac148ea77f\",\"type\":\"BoxZoomTool\"},{\"attributes\":{\"formatter\":{\"id\":\"bc254315-2cbf-4457-bf7d-8105f13127b0\",\"type\":\"BasicTickFormatter\"},\"plot\":{\"id\":\"f53f74a4-68eb-4b9a-919e-e89876cd6bdb\",\"subtype\":\"Figure\",\"type\":\"Plot\"},\"ticker\":{\"id\":\"f1f8648a-2f46-477d-887e-066d0f2acd80\",\"type\":\"BasicTicker\"}},\"id\":\"24565065-b48f-48ed-9c88-ccc40521a8c1\",\"type\":\"LinearAxis\"},{\"attributes\":{},\"id\":\"ee33f5dc-a9ed-4dc2-acef-0935b465fed6\",\"type\":\"WheelZoomTool\"},{\"attributes\":{\"fill_alpha\":{\"value\":0.1},\"fill_color\":{\"value\":\"#1f77b4\"},\"line_alpha\":{\"value\":0.1},\"line_color\":{\"value\":\"#1f77b4\"},\"radius\":{\"units\":\"data\",\"value\":0.1},\"x\":{\"field\":\"x\"},\"y\":{\"field\":\"y\"}},\"id\":\"88e6d3ae-6bbd-43fd-ae17-23a868822f56\",\"type\":\"Circle\"},{\"attributes\":{},\"id\":\"20c3638e-7f78-4f41-98f3-ecae20d56dc7\",\"type\":\"LinearScale\"},{\"attributes\":{},\"id\":\"ff931d23-b7c2-4135-9b21-e2f753331bda\",\"type\":\"HelpTool\"},{\"attributes\":{},\"id\":\"0965ad4b-ed64-45c5-8345-7e99b0fbf260\",\"type\":\"ResetTool\"},{\"attributes\":{},\"id\":\"bc254315-2cbf-4457-bf7d-8105f13127b0\",\"type\":\"BasicTickFormatter\"},{\"attributes\":{\"callback\":null},\"id\":\"dfaa7b9f-d290-4e31-86ef-44a8f9c246e9\",\"type\":\"DataRange1d\"},{\"attributes\":{\"active_drag\":\"auto\",\"active_inspect\":\"auto\",\"active_scroll\":\"auto\",\"active_tap\":\"auto\",\"tools\":[{\"id\":\"22ca0d8e-080c-46a7-82cc-b4a77ddf3d3e\",\"type\":\"PanTool\"},{\"id\":\"ee33f5dc-a9ed-4dc2-acef-0935b465fed6\",\"type\":\"WheelZoomTool\"},{\"id\":\"e2fe1460-7167-4f66-ae3e-b1ac148ea77f\",\"type\":\"BoxZoomTool\"},{\"id\":\"a60653c5-144c-4edc-948b-a58e8b334151\",\"type\":\"SaveTool\"},{\"id\":\"0965ad4b-ed64-45c5-8345-7e99b0fbf260\",\"type\":\"ResetTool\"},{\"id\":\"ff931d23-b7c2-4135-9b21-e2f753331bda\",\"type\":\"HelpTool\"}]},\"id\":\"20407cc1-86ed-4e07-91df-fab37a8281b6\",\"type\":\"Toolbar\"},{\"attributes\":{},\"id\":\"61e7c317-899d-4bba-824e-afb591fedee7\",\"type\":\"LinearScale\"},{\"attributes\":{\"plot\":{\"id\":\"f53f74a4-68eb-4b9a-919e-e89876cd6bdb\",\"subtype\":\"Figure\",\"type\":\"Plot\"},\"ticker\":{\"id\":\"f1f8648a-2f46-477d-887e-066d0f2acd80\",\"type\":\"BasicTicker\"}},\"id\":\"4b736a81-7d83-4b18-b519-a2009908df41\",\"type\":\"Grid\"},{\"attributes\":{},\"id\":\"69d9b36e-0324-4820-9155-ff35bb517e35\",\"type\":\"BasicTicker\"},{\"attributes\":{\"plot\":null,\"text\":\"\"},\"id\":\"c18fd74a-8214-491e-b26c-1b2c39896a3b\",\"type\":\"Title\"},{\"attributes\":{},\"id\":\"a60653c5-144c-4edc-948b-a58e8b334151\",\"type\":\"SaveTool\"},{\"attributes\":{},\"id\":\"f1f8648a-2f46-477d-887e-066d0f2acd80\",\"type\":\"BasicTicker\"},{\"attributes\":{\"source\":{\"id\":\"9c0359a6-1db7-4cf4-81c8-44c2c728ab68\",\"type\":\"ColumnDataSource\"}},\"id\":\"a611f7b9-6a08-4916-aeb1-9a0105d43d44\",\"type\":\"CDSView\"},{\"attributes\":{\"formatter\":{\"id\":\"a9e8af02-32d9-41a8-993f-2cf7c88fe3c1\",\"type\":\"BasicTickFormatter\"},\"plot\":{\"id\":\"f53f74a4-68eb-4b9a-919e-e89876cd6bdb\",\"subtype\":\"Figure\",\"type\":\"Plot\"},\"ticker\":{\"id\":\"69d9b36e-0324-4820-9155-ff35bb517e35\",\"type\":\"BasicTicker\"}},\"id\":\"51adbb87-e523-4fc0-a58f-2e7e4e2bb60e\",\"type\":\"LinearAxis\"},{\"attributes\":{},\"id\":\"22ca0d8e-080c-46a7-82cc-b4a77ddf3d3e\",\"type\":\"PanTool\"},{\"attributes\":{\"data_source\":{\"id\":\"9c0359a6-1db7-4cf4-81c8-44c2c728ab68\",\"type\":\"ColumnDataSource\"},\"glyph\":{\"id\":\"a89e2701-ea3e-4e6a-b180-b0ca496ed5d3\",\"type\":\"Circle\"},\"hover_glyph\":null,\"muted_glyph\":null,\"nonselection_glyph\":{\"id\":\"88e6d3ae-6bbd-43fd-ae17-23a868822f56\",\"type\":\"Circle\"},\"selection_glyph\":null,\"view\":{\"id\":\"a611f7b9-6a08-4916-aeb1-9a0105d43d44\",\"type\":\"CDSView\"}},\"id\":\"a3c2d8a4-0406-4faf-91f9-765187e02f66\",\"type\":\"GlyphRenderer\"}],\"root_ids\":[\"f53f74a4-68eb-4b9a-919e-e89876cd6bdb\"]},\"title\":\"Bokeh Application\",\"version\":\"0.12.14\"}};\n",
       "  var render_items = [{\"docid\":\"74acb2e7-b987-4862-8679-0003220680f3\",\"elementid\":\"3e17b002-ff33-4f5b-b7f0-2dc38fcaa6ed\",\"modelid\":\"f53f74a4-68eb-4b9a-919e-e89876cd6bdb\"}];\n",
       "  root.Bokeh.embed.embed_items_notebook(docs_json, render_items);\n",
       "\n",
       "  }\n",
       "  if (root.Bokeh !== undefined) {\n",
       "    embed_document(root);\n",
       "  } else {\n",
       "    var attempts = 0;\n",
       "    var timer = setInterval(function(root) {\n",
       "      if (root.Bokeh !== undefined) {\n",
       "        embed_document(root);\n",
       "        clearInterval(timer);\n",
       "      }\n",
       "      attempts++;\n",
       "      if (attempts > 100) {\n",
       "        console.log(\"Bokeh: ERROR: Unable to run BokehJS code because BokehJS library is missing\")\n",
       "        clearInterval(timer);\n",
       "      }\n",
       "    }, 10, root)\n",
       "  }\n",
       "})(window);"
      ],
      "application/vnd.bokehjs_exec.v0+json": ""
     },
     "metadata": {
      "application/vnd.bokehjs_exec.v0+json": {
       "id": "f53f74a4-68eb-4b9a-919e-e89876cd6bdb"
      }
     },
     "output_type": "display_data"
    }
   ],
   "source": [
    "# EXERCISE: Try changing the example above to set a `radius` value instead of `size`\n",
    "p = figure(plot_width=400, plot_height=400)\n",
    "p.circle([1, 2, 3, 4, 5], [6, 7, 2, 4, 5], radius=.1, line_color=\"navy\", fill_color=\"orange\", fill_alpha=0.5)\n",
    "\n",
    "show(p) # show the results\n"
   ]
  },
  {
   "cell_type": "markdown",
   "metadata": {},
   "source": [
    "To scatter square markers instead of circles, you can use the `square` method on figures. "
   ]
  },
  {
   "cell_type": "code",
   "execution_count": 13,
   "metadata": {},
   "outputs": [
    {
     "data": {
      "text/html": [
       "\n",
       "<div class=\"bk-root\">\n",
       "    <div class=\"bk-plotdiv\" id=\"bd6b0b3f-7e32-4d67-ac1e-d2f64fb51152\"></div>\n",
       "</div>"
      ]
     },
     "metadata": {},
     "output_type": "display_data"
    },
    {
     "data": {
      "application/javascript": [
       "(function(root) {\n",
       "  function embed_document(root) {\n",
       "    \n",
       "  var docs_json = {\"fb1c3298-cfbb-47c8-8b72-48efcdad0d4b\":{\"roots\":{\"references\":[{\"attributes\":{},\"id\":\"e0cfa469-90f2-4bc0-beec-3ff0f3ef06ca\",\"type\":\"LinearScale\"},{\"attributes\":{},\"id\":\"0b7645d4-76ef-482a-ab3c-b5dfa8ee38c1\",\"type\":\"PanTool\"},{\"attributes\":{},\"id\":\"032737d0-8a05-4d4c-9e25-0f082b28a684\",\"type\":\"WheelZoomTool\"},{\"attributes\":{\"callback\":null},\"id\":\"e959f2cd-799d-489e-ad08-5321942e1195\",\"type\":\"DataRange1d\"},{\"attributes\":{\"bottom_units\":\"screen\",\"fill_alpha\":{\"value\":0.5},\"fill_color\":{\"value\":\"lightgrey\"},\"left_units\":\"screen\",\"level\":\"overlay\",\"line_alpha\":{\"value\":1.0},\"line_color\":{\"value\":\"black\"},\"line_dash\":[4,4],\"line_width\":{\"value\":2},\"plot\":null,\"render_mode\":\"css\",\"right_units\":\"screen\",\"top_units\":\"screen\"},\"id\":\"fd2c2bd8-0b4d-4af7-98ff-35105463d542\",\"type\":\"BoxAnnotation\"},{\"attributes\":{},\"id\":\"df420882-0f2f-49c2-9121-e95cea49f84f\",\"type\":\"BasicTicker\"},{\"attributes\":{},\"id\":\"303cd1ad-5df1-4f54-8f38-a3924dc4fa83\",\"type\":\"BasicTickFormatter\"},{\"attributes\":{\"formatter\":{\"id\":\"7e736b78-e773-4b3f-85ad-9c978fc7c26e\",\"type\":\"BasicTickFormatter\"},\"plot\":{\"id\":\"85c69704-ffee-4c84-8c92-0b7f4b683799\",\"subtype\":\"Figure\",\"type\":\"Plot\"},\"ticker\":{\"id\":\"df420882-0f2f-49c2-9121-e95cea49f84f\",\"type\":\"BasicTicker\"}},\"id\":\"a34f13a5-ea71-4e72-95aa-25e3e3f47f32\",\"type\":\"LinearAxis\"},{\"attributes\":{\"plot\":{\"id\":\"85c69704-ffee-4c84-8c92-0b7f4b683799\",\"subtype\":\"Figure\",\"type\":\"Plot\"},\"ticker\":{\"id\":\"518fa47e-ab94-4514-8cfd-194e7e8c0503\",\"type\":\"BasicTicker\"}},\"id\":\"d89d03e2-3624-43a8-b579-ad2b0a89bfb4\",\"type\":\"Grid\"},{\"attributes\":{\"fill_alpha\":{\"value\":0.1},\"fill_color\":{\"value\":\"#1f77b4\"},\"line_alpha\":{\"value\":0.1},\"line_color\":{\"value\":\"#1f77b4\"},\"size\":{\"field\":\"size\",\"units\":\"screen\"},\"x\":{\"field\":\"x\"},\"y\":{\"field\":\"y\"}},\"id\":\"0c000f7d-44ed-4a85-a8fc-5fed210defa6\",\"type\":\"Square\"},{\"attributes\":{\"overlay\":{\"id\":\"fd2c2bd8-0b4d-4af7-98ff-35105463d542\",\"type\":\"BoxAnnotation\"}},\"id\":\"1bc18985-04b4-4d3d-bd63-76ba773a62dc\",\"type\":\"BoxZoomTool\"},{\"attributes\":{},\"id\":\"518fa47e-ab94-4514-8cfd-194e7e8c0503\",\"type\":\"BasicTicker\"},{\"attributes\":{\"active_drag\":\"auto\",\"active_inspect\":\"auto\",\"active_scroll\":\"auto\",\"active_tap\":\"auto\",\"tools\":[{\"id\":\"0b7645d4-76ef-482a-ab3c-b5dfa8ee38c1\",\"type\":\"PanTool\"},{\"id\":\"032737d0-8a05-4d4c-9e25-0f082b28a684\",\"type\":\"WheelZoomTool\"},{\"id\":\"1bc18985-04b4-4d3d-bd63-76ba773a62dc\",\"type\":\"BoxZoomTool\"},{\"id\":\"ca711dc7-bcdd-431a-8c09-3df48cfe8b47\",\"type\":\"SaveTool\"},{\"id\":\"d9e1dbb8-bd7a-4d83-a64f-fc096c02d698\",\"type\":\"ResetTool\"},{\"id\":\"93f4ee94-f157-4113-aa4f-340af9be6259\",\"type\":\"HelpTool\"}]},\"id\":\"002c009f-c167-46d4-acd2-3f1433785b0b\",\"type\":\"Toolbar\"},{\"attributes\":{\"callback\":null,\"column_names\":[\"x\",\"y\",\"size\"],\"data\":{\"size\":[10,15,20,25,30],\"x\":[1,2,3,4,5],\"y\":[6,7,2,4,5]}},\"id\":\"7d3f78c6-798e-41cd-be4f-2ad493cb0721\",\"type\":\"ColumnDataSource\"},{\"attributes\":{},\"id\":\"93f4ee94-f157-4113-aa4f-340af9be6259\",\"type\":\"HelpTool\"},{\"attributes\":{\"below\":[{\"id\":\"a16a9301-c294-45a0-92ba-93337c8c5700\",\"type\":\"LinearAxis\"}],\"left\":[{\"id\":\"a34f13a5-ea71-4e72-95aa-25e3e3f47f32\",\"type\":\"LinearAxis\"}],\"plot_height\":400,\"plot_width\":400,\"renderers\":[{\"id\":\"a16a9301-c294-45a0-92ba-93337c8c5700\",\"type\":\"LinearAxis\"},{\"id\":\"d89d03e2-3624-43a8-b579-ad2b0a89bfb4\",\"type\":\"Grid\"},{\"id\":\"a34f13a5-ea71-4e72-95aa-25e3e3f47f32\",\"type\":\"LinearAxis\"},{\"id\":\"e86e4f96-6a1b-41f4-936f-309917f3e09c\",\"type\":\"Grid\"},{\"id\":\"fd2c2bd8-0b4d-4af7-98ff-35105463d542\",\"type\":\"BoxAnnotation\"},{\"id\":\"d3bce788-ba47-4052-95b5-6da0cad37413\",\"type\":\"GlyphRenderer\"}],\"title\":{\"id\":\"a251d7b6-c5a6-4318-8949-ea131797441b\",\"type\":\"Title\"},\"toolbar\":{\"id\":\"002c009f-c167-46d4-acd2-3f1433785b0b\",\"type\":\"Toolbar\"},\"x_range\":{\"id\":\"e959f2cd-799d-489e-ad08-5321942e1195\",\"type\":\"DataRange1d\"},\"x_scale\":{\"id\":\"349bbff3-3f5d-4793-bd50-fc9001086591\",\"type\":\"LinearScale\"},\"y_range\":{\"id\":\"ba08c9bc-b2c9-4f63-8194-01afd95e8edc\",\"type\":\"DataRange1d\"},\"y_scale\":{\"id\":\"e0cfa469-90f2-4bc0-beec-3ff0f3ef06ca\",\"type\":\"LinearScale\"}},\"id\":\"85c69704-ffee-4c84-8c92-0b7f4b683799\",\"subtype\":\"Figure\",\"type\":\"Plot\"},{\"attributes\":{\"dimension\":1,\"plot\":{\"id\":\"85c69704-ffee-4c84-8c92-0b7f4b683799\",\"subtype\":\"Figure\",\"type\":\"Plot\"},\"ticker\":{\"id\":\"df420882-0f2f-49c2-9121-e95cea49f84f\",\"type\":\"BasicTicker\"}},\"id\":\"e86e4f96-6a1b-41f4-936f-309917f3e09c\",\"type\":\"Grid\"},{\"attributes\":{\"plot\":null,\"text\":\"\"},\"id\":\"a251d7b6-c5a6-4318-8949-ea131797441b\",\"type\":\"Title\"},{\"attributes\":{},\"id\":\"7e736b78-e773-4b3f-85ad-9c978fc7c26e\",\"type\":\"BasicTickFormatter\"},{\"attributes\":{},\"id\":\"ca711dc7-bcdd-431a-8c09-3df48cfe8b47\",\"type\":\"SaveTool\"},{\"attributes\":{},\"id\":\"d9e1dbb8-bd7a-4d83-a64f-fc096c02d698\",\"type\":\"ResetTool\"},{\"attributes\":{\"data_source\":{\"id\":\"7d3f78c6-798e-41cd-be4f-2ad493cb0721\",\"type\":\"ColumnDataSource\"},\"glyph\":{\"id\":\"4725e3aa-7e83-4713-927f-c69688467bac\",\"type\":\"Square\"},\"hover_glyph\":null,\"muted_glyph\":null,\"nonselection_glyph\":{\"id\":\"0c000f7d-44ed-4a85-a8fc-5fed210defa6\",\"type\":\"Square\"},\"selection_glyph\":null,\"view\":{\"id\":\"e1528697-81d8-4864-8412-edefa4891065\",\"type\":\"CDSView\"}},\"id\":\"d3bce788-ba47-4052-95b5-6da0cad37413\",\"type\":\"GlyphRenderer\"},{\"attributes\":{\"fill_alpha\":{\"value\":0.6},\"fill_color\":{\"value\":\"firebrick\"},\"line_alpha\":{\"value\":0.6},\"line_color\":{\"value\":\"firebrick\"},\"size\":{\"field\":\"size\",\"units\":\"screen\"},\"x\":{\"field\":\"x\"},\"y\":{\"field\":\"y\"}},\"id\":\"4725e3aa-7e83-4713-927f-c69688467bac\",\"type\":\"Square\"},{\"attributes\":{\"formatter\":{\"id\":\"303cd1ad-5df1-4f54-8f38-a3924dc4fa83\",\"type\":\"BasicTickFormatter\"},\"plot\":{\"id\":\"85c69704-ffee-4c84-8c92-0b7f4b683799\",\"subtype\":\"Figure\",\"type\":\"Plot\"},\"ticker\":{\"id\":\"518fa47e-ab94-4514-8cfd-194e7e8c0503\",\"type\":\"BasicTicker\"}},\"id\":\"a16a9301-c294-45a0-92ba-93337c8c5700\",\"type\":\"LinearAxis\"},{\"attributes\":{\"source\":{\"id\":\"7d3f78c6-798e-41cd-be4f-2ad493cb0721\",\"type\":\"ColumnDataSource\"}},\"id\":\"e1528697-81d8-4864-8412-edefa4891065\",\"type\":\"CDSView\"},{\"attributes\":{},\"id\":\"349bbff3-3f5d-4793-bd50-fc9001086591\",\"type\":\"LinearScale\"},{\"attributes\":{\"callback\":null},\"id\":\"ba08c9bc-b2c9-4f63-8194-01afd95e8edc\",\"type\":\"DataRange1d\"}],\"root_ids\":[\"85c69704-ffee-4c84-8c92-0b7f4b683799\"]},\"title\":\"Bokeh Application\",\"version\":\"0.12.14\"}};\n",
       "  var render_items = [{\"docid\":\"fb1c3298-cfbb-47c8-8b72-48efcdad0d4b\",\"elementid\":\"bd6b0b3f-7e32-4d67-ac1e-d2f64fb51152\",\"modelid\":\"85c69704-ffee-4c84-8c92-0b7f4b683799\"}];\n",
       "  root.Bokeh.embed.embed_items_notebook(docs_json, render_items);\n",
       "\n",
       "  }\n",
       "  if (root.Bokeh !== undefined) {\n",
       "    embed_document(root);\n",
       "  } else {\n",
       "    var attempts = 0;\n",
       "    var timer = setInterval(function(root) {\n",
       "      if (root.Bokeh !== undefined) {\n",
       "        embed_document(root);\n",
       "        clearInterval(timer);\n",
       "      }\n",
       "      attempts++;\n",
       "      if (attempts > 100) {\n",
       "        console.log(\"Bokeh: ERROR: Unable to run BokehJS code because BokehJS library is missing\")\n",
       "        clearInterval(timer);\n",
       "      }\n",
       "    }, 10, root)\n",
       "  }\n",
       "})(window);"
      ],
      "application/vnd.bokehjs_exec.v0+json": ""
     },
     "metadata": {
      "application/vnd.bokehjs_exec.v0+json": {
       "id": "85c69704-ffee-4c84-8c92-0b7f4b683799"
      }
     },
     "output_type": "display_data"
    }
   ],
   "source": [
    "# create a new plot using figure\n",
    "p = figure(plot_width=400, plot_height=400)\n",
    "\n",
    "# add a square renderer with a size, color, alpha, and sizes\n",
    "p.square([1, 2, 3, 4, 5], [6, 7, 2, 4, 5], size=[10, 15, 20, 25, 30], color=\"firebrick\", alpha=0.6)\n",
    "\n",
    "show(p) # show the results"
   ]
  },
  {
   "cell_type": "markdown",
   "metadata": {},
   "source": [
    "Note that in the example above, we are also specifying different sizes for each individual marker. ***In general, all of a glyph's properties can be \"vectorized\" in this fashion. ***  Also note that we have passed ``color`` as a shorthand to set both the line and fill colors easily at the same time. This is a convenience specific to ``bokeh.plotting``.\n",
    "\n",
    "</table><p>There are many marker types available in Bokeh, you can see details and\n",
    "example plots for all of them in the reference guide by clicking on entries in the list below:</p>\n",
    "<table class=\"hlist\" style=\"float:left\"><tr><td><ul>\n",
    "<li><a href=\"http://bokeh.pydata.org/en/latest/docs/reference/plotting.html#bokeh.plotting.Figure.asterisk\" title=\"bokeh.plotting.Figure.asterisk\"><code class=\"xref py py-func docutils literal\"><span class=\"pre\">asterisk()</span></code></a></li>\n",
    "<li><a href=\"http://bokeh.pydata.org/en/latest/docs/reference/plotting.html#bokeh.plotting.Figure.circle\" title=\"bokeh.plotting.Figure.circle\"><code class=\"xref py py-func docutils literal\"><span class=\"pre\">circle()</span></code></a></li>\n",
    "<li><a href=\"http://bokeh.pydata.org/en/latest/docs/reference/plotting.html#bokeh.plotting.Figure.circle_cross\" title=\"bokeh.plotting.Figure.circle_cross\"><code class=\"xref py py-func docutils literal\"><span class=\"pre\">circle_cross()</span></code></a></li>\n",
    "<li><a href=\"http://bokeh.pydata.org/en/latest/docs/reference/plotting.html#bokeh.plotting.Figure.circle_x\" title=\"bokeh.plotting.Figure.circle_x\"><code class=\"xref py py-func docutils literal\"><span class=\"pre\">circle_x()</span></code></a></li>\n",
    "<li><a href=\"http://bokeh.pydata.org/en/latest/docs/reference/plotting.html#bokeh.plotting.Figure.cross\" title=\"bokeh.plotting.Figure.cross\"><code class=\"xref py py-func docutils literal\"><span class=\"pre\">cross()</span></code></a></li>\n",
    "</ul>\n",
    "</td><td><ul>\n",
    "<li><a href=\"http://bokeh.pydata.org/en/latest/docs/reference/plotting.html#bokeh.plotting.Figure.diamond\" title=\"bokeh.plotting.Figure.diamond\"><code class=\"xref py py-func docutils literal\"><span class=\"pre\">diamond()</span></code></a></li>\n",
    "<li><a href=\"http://bokeh.pydata.org/en/latest/docs/reference/plotting.html#bokeh.plotting.Figure.diamond_cross\" title=\"bokeh.plotting.Figure.diamond_cross\"><code class=\"xref py py-func docutils literal\"><span class=\"pre\">diamond_cross()</span></code></a></li>\n",
    "<li><a href=\"http://bokeh.pydata.org/en/latest/docs/reference/plotting.html#bokeh.plotting.Figure.inverted_triangle\" title=\"bokeh.plotting.Figure.inverted_triangle\"><code class=\"xref py py-func docutils literal\"><span class=\"pre\">inverted_triangle()</span></code></a></li>\n",
    "<li><a href=\"http://bokeh.pydata.org/en/latest/docs/reference/plotting.html#bokeh.plotting.Figure.square\" title=\"bokeh.plotting.Figure.square\"><code class=\"xref py py-func docutils literal\"><span class=\"pre\">square()</span></code></a></li>\n",
    "</ul>\n",
    "</td><td><ul>\n",
    "<li><a href=\"http://bokeh.pydata.org/en/latest/docs/reference/plotting.html#bokeh.plotting.Figure.square_cross\" title=\"bokeh.plotting.Figure.square_cross\"><code class=\"xref py py-func docutils literal\"><span class=\"pre\">square_cross()</span></code></a></li>\n",
    "<li><a href=\"http://bokeh.pydata.org/en/latest/docs/reference/plotting.html#bokeh.plotting.Figure.square_x\" title=\"bokeh.plotting.Figure.square_x\"><code class=\"xref py py-func docutils literal\"><span class=\"pre\">square_x()</span></code></a></li>\n",
    "<li><a href=\"http://bokeh.pydata.org/en/latest/docs/reference/plotting.html#bokeh.plotting.Figure.triangle\" title=\"bokeh.plotting.Figure.triangle\"><code class=\"xref py py-func docutils literal\"><span class=\"pre\">triangle()</span></code></a></li>\n",
    "<li><a href=\"http://bokeh.pydata.org/en/latest/docs/reference/plotting.html#bokeh.plotting.Figure.x\" title=\"bokeh.plotting.Figure.x\"><code class=\"xref py py-func docutils literal\"><span class=\"pre\">x()</span></code></a></li>\n",
    "</ul>\n",
    "</td></tr></table>"
   ]
  },
  {
   "cell_type": "code",
   "execution_count": 14,
   "metadata": {},
   "outputs": [
    {
     "data": {
      "text/html": [
       "\n",
       "<div class=\"bk-root\">\n",
       "    <div class=\"bk-plotdiv\" id=\"e2dd15fb-e775-41ef-a9cd-e22d5abf5a12\"></div>\n",
       "</div>"
      ]
     },
     "metadata": {},
     "output_type": "display_data"
    },
    {
     "data": {
      "application/javascript": [
       "(function(root) {\n",
       "  function embed_document(root) {\n",
       "    \n",
       "  var docs_json = {\"5c08d8e8-0381-4a0c-9a0e-195c50cab5e2\":{\"roots\":{\"references\":[{\"attributes\":{},\"id\":\"c42b8363-3ef5-42c8-8eb2-9f943cbb3e86\",\"type\":\"ResetTool\"},{\"attributes\":{\"source\":{\"id\":\"35bb7063-f92f-428a-bfe7-7d826a433414\",\"type\":\"ColumnDataSource\"}},\"id\":\"e51dc12c-ccc4-40b8-bd10-4183c701258b\",\"type\":\"CDSView\"},{\"attributes\":{\"callback\":null},\"id\":\"94dda55e-f41c-43d9-9ca6-f1dd04ad83ca\",\"type\":\"DataRange1d\"},{\"attributes\":{},\"id\":\"9dca3e35-0450-46f3-98d5-5e59566778d7\",\"type\":\"LinearScale\"},{\"attributes\":{\"plot\":{\"id\":\"cfa9fba0-d4f4-430a-9689-c80afc0b7893\",\"subtype\":\"Figure\",\"type\":\"Plot\"},\"ticker\":{\"id\":\"35769ae7-cd8c-4e30-8d24-4c9a86f91d75\",\"type\":\"BasicTicker\"}},\"id\":\"34c496d3-3764-45a5-9db3-d1822218732b\",\"type\":\"Grid\"},{\"attributes\":{},\"id\":\"6cd62332-7d9a-4d04-bf3f-a63619264d88\",\"type\":\"HelpTool\"},{\"attributes\":{\"formatter\":{\"id\":\"2b39c9c3-3036-4515-ad1a-cd2a155ef987\",\"type\":\"BasicTickFormatter\"},\"plot\":{\"id\":\"cfa9fba0-d4f4-430a-9689-c80afc0b7893\",\"subtype\":\"Figure\",\"type\":\"Plot\"},\"ticker\":{\"id\":\"35769ae7-cd8c-4e30-8d24-4c9a86f91d75\",\"type\":\"BasicTicker\"}},\"id\":\"a3206d03-c866-4e36-8385-e81be26713e8\",\"type\":\"LinearAxis\"},{\"attributes\":{},\"id\":\"35769ae7-cd8c-4e30-8d24-4c9a86f91d75\",\"type\":\"BasicTicker\"},{\"attributes\":{\"callback\":null,\"column_names\":[\"x\",\"y\",\"size\"],\"data\":{\"size\":[10,15,20,25,30],\"x\":[1,2,3,4,5],\"y\":[6,7,2,4,5]}},\"id\":\"35bb7063-f92f-428a-bfe7-7d826a433414\",\"type\":\"ColumnDataSource\"},{\"attributes\":{\"formatter\":{\"id\":\"4ab2470f-8095-4c7f-94db-30bc1f60d8f0\",\"type\":\"BasicTickFormatter\"},\"plot\":{\"id\":\"cfa9fba0-d4f4-430a-9689-c80afc0b7893\",\"subtype\":\"Figure\",\"type\":\"Plot\"},\"ticker\":{\"id\":\"2b6578c2-d7ed-4c39-a629-c8bc3acfdc77\",\"type\":\"BasicTicker\"}},\"id\":\"954f54d9-b3e6-4950-93cc-0430f20e47cd\",\"type\":\"LinearAxis\"},{\"attributes\":{},\"id\":\"2b6578c2-d7ed-4c39-a629-c8bc3acfdc77\",\"type\":\"BasicTicker\"},{\"attributes\":{},\"id\":\"056d4ca5-7b23-4454-828a-a748aaf16d81\",\"type\":\"LinearScale\"},{\"attributes\":{\"dimension\":1,\"plot\":{\"id\":\"cfa9fba0-d4f4-430a-9689-c80afc0b7893\",\"subtype\":\"Figure\",\"type\":\"Plot\"},\"ticker\":{\"id\":\"2b6578c2-d7ed-4c39-a629-c8bc3acfdc77\",\"type\":\"BasicTicker\"}},\"id\":\"b6345929-1eda-4909-a0c2-9821e9f01b8d\",\"type\":\"Grid\"},{\"attributes\":{\"plot\":null,\"text\":\"\"},\"id\":\"ad9e2ae4-57e3-424c-a4bb-ab55eaa1ccd0\",\"type\":\"Title\"},{\"attributes\":{\"fill_alpha\":{\"value\":0.1},\"fill_color\":{\"value\":\"#1f77b4\"},\"line_alpha\":{\"value\":0.1},\"line_color\":{\"value\":\"#1f77b4\"},\"size\":{\"field\":\"size\",\"units\":\"screen\"},\"x\":{\"field\":\"x\"},\"y\":{\"field\":\"y\"}},\"id\":\"e6bfe0e0-b5dd-4f98-bd6c-157539955af0\",\"type\":\"Diamond\"},{\"attributes\":{},\"id\":\"4ab2470f-8095-4c7f-94db-30bc1f60d8f0\",\"type\":\"BasicTickFormatter\"},{\"attributes\":{\"below\":[{\"id\":\"a3206d03-c866-4e36-8385-e81be26713e8\",\"type\":\"LinearAxis\"}],\"left\":[{\"id\":\"954f54d9-b3e6-4950-93cc-0430f20e47cd\",\"type\":\"LinearAxis\"}],\"plot_height\":400,\"plot_width\":400,\"renderers\":[{\"id\":\"a3206d03-c866-4e36-8385-e81be26713e8\",\"type\":\"LinearAxis\"},{\"id\":\"34c496d3-3764-45a5-9db3-d1822218732b\",\"type\":\"Grid\"},{\"id\":\"954f54d9-b3e6-4950-93cc-0430f20e47cd\",\"type\":\"LinearAxis\"},{\"id\":\"b6345929-1eda-4909-a0c2-9821e9f01b8d\",\"type\":\"Grid\"},{\"id\":\"f13376fd-dd20-472e-9c4a-21e5f541daa7\",\"type\":\"BoxAnnotation\"},{\"id\":\"ccdc4b76-1769-4803-b2c8-e3df723ea7d0\",\"type\":\"GlyphRenderer\"}],\"title\":{\"id\":\"ad9e2ae4-57e3-424c-a4bb-ab55eaa1ccd0\",\"type\":\"Title\"},\"toolbar\":{\"id\":\"d71047ae-d140-441e-ab59-2a86b3bba372\",\"type\":\"Toolbar\"},\"x_range\":{\"id\":\"3f2f6b5c-a81a-4199-adc3-d51dab163aa6\",\"type\":\"DataRange1d\"},\"x_scale\":{\"id\":\"9dca3e35-0450-46f3-98d5-5e59566778d7\",\"type\":\"LinearScale\"},\"y_range\":{\"id\":\"94dda55e-f41c-43d9-9ca6-f1dd04ad83ca\",\"type\":\"DataRange1d\"},\"y_scale\":{\"id\":\"056d4ca5-7b23-4454-828a-a748aaf16d81\",\"type\":\"LinearScale\"}},\"id\":\"cfa9fba0-d4f4-430a-9689-c80afc0b7893\",\"subtype\":\"Figure\",\"type\":\"Plot\"},{\"attributes\":{\"bottom_units\":\"screen\",\"fill_alpha\":{\"value\":0.5},\"fill_color\":{\"value\":\"lightgrey\"},\"left_units\":\"screen\",\"level\":\"overlay\",\"line_alpha\":{\"value\":1.0},\"line_color\":{\"value\":\"black\"},\"line_dash\":[4,4],\"line_width\":{\"value\":2},\"plot\":null,\"render_mode\":\"css\",\"right_units\":\"screen\",\"top_units\":\"screen\"},\"id\":\"f13376fd-dd20-472e-9c4a-21e5f541daa7\",\"type\":\"BoxAnnotation\"},{\"attributes\":{\"fill_alpha\":{\"value\":0.6},\"fill_color\":{\"value\":\"firebrick\"},\"line_alpha\":{\"value\":0.6},\"line_color\":{\"value\":\"firebrick\"},\"size\":{\"field\":\"size\",\"units\":\"screen\"},\"x\":{\"field\":\"x\"},\"y\":{\"field\":\"y\"}},\"id\":\"cd6886f3-9204-468c-a149-f0168de25c6e\",\"type\":\"Diamond\"},{\"attributes\":{},\"id\":\"c5ffaae6-6759-4b0c-87d5-4dc0b0165699\",\"type\":\"PanTool\"},{\"attributes\":{},\"id\":\"2b39c9c3-3036-4515-ad1a-cd2a155ef987\",\"type\":\"BasicTickFormatter\"},{\"attributes\":{\"callback\":null},\"id\":\"3f2f6b5c-a81a-4199-adc3-d51dab163aa6\",\"type\":\"DataRange1d\"},{\"attributes\":{},\"id\":\"7e7d4b17-b149-4b04-b173-9407b43f124f\",\"type\":\"WheelZoomTool\"},{\"attributes\":{\"data_source\":{\"id\":\"35bb7063-f92f-428a-bfe7-7d826a433414\",\"type\":\"ColumnDataSource\"},\"glyph\":{\"id\":\"cd6886f3-9204-468c-a149-f0168de25c6e\",\"type\":\"Diamond\"},\"hover_glyph\":null,\"muted_glyph\":null,\"nonselection_glyph\":{\"id\":\"e6bfe0e0-b5dd-4f98-bd6c-157539955af0\",\"type\":\"Diamond\"},\"selection_glyph\":null,\"view\":{\"id\":\"e51dc12c-ccc4-40b8-bd10-4183c701258b\",\"type\":\"CDSView\"}},\"id\":\"ccdc4b76-1769-4803-b2c8-e3df723ea7d0\",\"type\":\"GlyphRenderer\"},{\"attributes\":{\"overlay\":{\"id\":\"f13376fd-dd20-472e-9c4a-21e5f541daa7\",\"type\":\"BoxAnnotation\"}},\"id\":\"ab061308-8e7d-46f9-aecd-d4744cc4d9be\",\"type\":\"BoxZoomTool\"},{\"attributes\":{},\"id\":\"df75bf25-0b30-4b45-9bda-70bc8c49e06c\",\"type\":\"SaveTool\"},{\"attributes\":{\"active_drag\":\"auto\",\"active_inspect\":\"auto\",\"active_scroll\":\"auto\",\"active_tap\":\"auto\",\"tools\":[{\"id\":\"c5ffaae6-6759-4b0c-87d5-4dc0b0165699\",\"type\":\"PanTool\"},{\"id\":\"7e7d4b17-b149-4b04-b173-9407b43f124f\",\"type\":\"WheelZoomTool\"},{\"id\":\"ab061308-8e7d-46f9-aecd-d4744cc4d9be\",\"type\":\"BoxZoomTool\"},{\"id\":\"df75bf25-0b30-4b45-9bda-70bc8c49e06c\",\"type\":\"SaveTool\"},{\"id\":\"c42b8363-3ef5-42c8-8eb2-9f943cbb3e86\",\"type\":\"ResetTool\"},{\"id\":\"6cd62332-7d9a-4d04-bf3f-a63619264d88\",\"type\":\"HelpTool\"}]},\"id\":\"d71047ae-d140-441e-ab59-2a86b3bba372\",\"type\":\"Toolbar\"}],\"root_ids\":[\"cfa9fba0-d4f4-430a-9689-c80afc0b7893\"]},\"title\":\"Bokeh Application\",\"version\":\"0.12.14\"}};\n",
       "  var render_items = [{\"docid\":\"5c08d8e8-0381-4a0c-9a0e-195c50cab5e2\",\"elementid\":\"e2dd15fb-e775-41ef-a9cd-e22d5abf5a12\",\"modelid\":\"cfa9fba0-d4f4-430a-9689-c80afc0b7893\"}];\n",
       "  root.Bokeh.embed.embed_items_notebook(docs_json, render_items);\n",
       "\n",
       "  }\n",
       "  if (root.Bokeh !== undefined) {\n",
       "    embed_document(root);\n",
       "  } else {\n",
       "    var attempts = 0;\n",
       "    var timer = setInterval(function(root) {\n",
       "      if (root.Bokeh !== undefined) {\n",
       "        embed_document(root);\n",
       "        clearInterval(timer);\n",
       "      }\n",
       "      attempts++;\n",
       "      if (attempts > 100) {\n",
       "        console.log(\"Bokeh: ERROR: Unable to run BokehJS code because BokehJS library is missing\")\n",
       "        clearInterval(timer);\n",
       "      }\n",
       "    }, 10, root)\n",
       "  }\n",
       "})(window);"
      ],
      "application/vnd.bokehjs_exec.v0+json": ""
     },
     "metadata": {
      "application/vnd.bokehjs_exec.v0+json": {
       "id": "cfa9fba0-d4f4-430a-9689-c80afc0b7893"
      }
     },
     "output_type": "display_data"
    }
   ],
   "source": [
    "# EXERCISE: Plot some different markers in this cell\n",
    "\n",
    "# create a new plot using figure\n",
    "p = figure(plot_width=400, plot_height=400)\n",
    "\n",
    "# add a square renderer with a size, color, alpha, and sizes\n",
    "p.diamond([1, 2, 3, 4, 5], [6, 7, 2, 4, 5], size=[10, 15, 20, 25, 30], color=\"firebrick\", alpha=0.6)\n",
    "\n",
    "show(p) # show the results"
   ]
  },
  {
   "cell_type": "markdown",
   "metadata": {},
   "source": [
    "# Basic Line Plots"
   ]
  },
  {
   "cell_type": "code",
   "execution_count": 15,
   "metadata": {},
   "outputs": [
    {
     "data": {
      "text/html": [
       "\n",
       "<div class=\"bk-root\">\n",
       "    <div class=\"bk-plotdiv\" id=\"94024a20-d36e-4510-a5d1-3e0e29fe7452\"></div>\n",
       "</div>"
      ]
     },
     "metadata": {},
     "output_type": "display_data"
    },
    {
     "data": {
      "application/javascript": [
       "(function(root) {\n",
       "  function embed_document(root) {\n",
       "    \n",
       "  var docs_json = {\"e237bde6-9c73-4b24-9775-f4942f35c254\":{\"roots\":{\"references\":[{\"attributes\":{},\"id\":\"af9376ed-61a8-4cee-afe2-63eb4d743184\",\"type\":\"BasicTickFormatter\"},{\"attributes\":{\"active_drag\":\"auto\",\"active_inspect\":\"auto\",\"active_scroll\":\"auto\",\"active_tap\":\"auto\",\"tools\":[{\"id\":\"c8929749-b52a-4aa5-9185-684847505e4f\",\"type\":\"PanTool\"},{\"id\":\"0400d1e3-4ee4-4e7e-913f-dd0a7164d645\",\"type\":\"WheelZoomTool\"},{\"id\":\"be82ad2d-b1fe-4dff-896f-6f674bb08665\",\"type\":\"BoxZoomTool\"},{\"id\":\"bc4db7a6-2f25-46de-96d5-fd17b7f7c974\",\"type\":\"SaveTool\"},{\"id\":\"eb17b8d2-6103-43e5-9939-93c8d32148a5\",\"type\":\"ResetTool\"},{\"id\":\"f82913b9-eede-4972-bd1d-9a0a7ab04984\",\"type\":\"HelpTool\"}]},\"id\":\"8bfbdcfe-ef48-4c3a-b29c-caa84495c087\",\"type\":\"Toolbar\"},{\"attributes\":{},\"id\":\"d6fc23b6-96b9-4dc1-b979-1e052d988fee\",\"type\":\"LinearScale\"},{\"attributes\":{},\"id\":\"eb17b8d2-6103-43e5-9939-93c8d32148a5\",\"type\":\"ResetTool\"},{\"attributes\":{\"callback\":null},\"id\":\"0ac9fb13-ab85-47e9-9d53-ce9b54bda519\",\"type\":\"DataRange1d\"},{\"attributes\":{},\"id\":\"c8929749-b52a-4aa5-9185-684847505e4f\",\"type\":\"PanTool\"},{\"attributes\":{\"bottom_units\":\"screen\",\"fill_alpha\":{\"value\":0.5},\"fill_color\":{\"value\":\"lightgrey\"},\"left_units\":\"screen\",\"level\":\"overlay\",\"line_alpha\":{\"value\":1.0},\"line_color\":{\"value\":\"black\"},\"line_dash\":[4,4],\"line_width\":{\"value\":2},\"plot\":null,\"render_mode\":\"css\",\"right_units\":\"screen\",\"top_units\":\"screen\"},\"id\":\"f83c2f12-bd71-4f62-b32d-a951e617f919\",\"type\":\"BoxAnnotation\"},{\"attributes\":{},\"id\":\"b734f912-0794-4cba-a132-0c1d40a7fb4a\",\"type\":\"LinearScale\"},{\"attributes\":{\"line_color\":\"#1f77b4\",\"line_width\":2,\"x\":{\"field\":\"x\"},\"y\":{\"field\":\"y\"}},\"id\":\"e251b779-36a2-4db0-a66e-08c2a9838a6c\",\"type\":\"Line\"},{\"attributes\":{\"data_source\":{\"id\":\"b77c03f5-ac6b-4b98-a38d-f081f8b156c9\",\"type\":\"ColumnDataSource\"},\"glyph\":{\"id\":\"e251b779-36a2-4db0-a66e-08c2a9838a6c\",\"type\":\"Line\"},\"hover_glyph\":null,\"muted_glyph\":null,\"nonselection_glyph\":{\"id\":\"e1b4a936-4142-42f9-896d-a71fde417e3d\",\"type\":\"Line\"},\"selection_glyph\":null,\"view\":{\"id\":\"9f604431-ffc4-4e40-8234-da74f002ccea\",\"type\":\"CDSView\"}},\"id\":\"d6be5af7-cb9c-4159-bb6c-8af41e463fad\",\"type\":\"GlyphRenderer\"},{\"attributes\":{\"overlay\":{\"id\":\"f83c2f12-bd71-4f62-b32d-a951e617f919\",\"type\":\"BoxAnnotation\"}},\"id\":\"be82ad2d-b1fe-4dff-896f-6f674bb08665\",\"type\":\"BoxZoomTool\"},{\"attributes\":{},\"id\":\"4589bb3a-7d38-48dd-bb81-8a3f314f033e\",\"type\":\"BasicTickFormatter\"},{\"attributes\":{\"dimension\":1,\"plot\":{\"id\":\"ba69042c-061e-4f71-baaf-8a4974b2d5a2\",\"subtype\":\"Figure\",\"type\":\"Plot\"},\"ticker\":{\"id\":\"15e436a1-daf4-4c4c-9a4d-a4a58449eb55\",\"type\":\"BasicTicker\"}},\"id\":\"0134c4ad-9b38-4237-8d27-39156d3edd37\",\"type\":\"Grid\"},{\"attributes\":{},\"id\":\"bc4db7a6-2f25-46de-96d5-fd17b7f7c974\",\"type\":\"SaveTool\"},{\"attributes\":{\"formatter\":{\"id\":\"af9376ed-61a8-4cee-afe2-63eb4d743184\",\"type\":\"BasicTickFormatter\"},\"plot\":{\"id\":\"ba69042c-061e-4f71-baaf-8a4974b2d5a2\",\"subtype\":\"Figure\",\"type\":\"Plot\"},\"ticker\":{\"id\":\"cb2b1a10-9595-4d31-9bf1-ce3f2a983809\",\"type\":\"BasicTicker\"}},\"id\":\"379a9a71-0379-4db2-9a2b-4fabb7fd413b\",\"type\":\"LinearAxis\"},{\"attributes\":{\"callback\":null,\"column_names\":[\"x\",\"y\"],\"data\":{\"x\":[1,2,3,4,5],\"y\":[6,7,2,4,5]}},\"id\":\"b77c03f5-ac6b-4b98-a38d-f081f8b156c9\",\"type\":\"ColumnDataSource\"},{\"attributes\":{\"callback\":null},\"id\":\"4acc591a-25db-4aea-b01d-fe395daa4782\",\"type\":\"DataRange1d\"},{\"attributes\":{\"plot\":null,\"text\":\"My Line Plot\"},\"id\":\"a045a5d5-1e62-4430-b524-4cda7f0c9487\",\"type\":\"Title\"},{\"attributes\":{\"source\":{\"id\":\"b77c03f5-ac6b-4b98-a38d-f081f8b156c9\",\"type\":\"ColumnDataSource\"}},\"id\":\"9f604431-ffc4-4e40-8234-da74f002ccea\",\"type\":\"CDSView\"},{\"attributes\":{},\"id\":\"0400d1e3-4ee4-4e7e-913f-dd0a7164d645\",\"type\":\"WheelZoomTool\"},{\"attributes\":{},\"id\":\"15e436a1-daf4-4c4c-9a4d-a4a58449eb55\",\"type\":\"BasicTicker\"},{\"attributes\":{\"formatter\":{\"id\":\"4589bb3a-7d38-48dd-bb81-8a3f314f033e\",\"type\":\"BasicTickFormatter\"},\"plot\":{\"id\":\"ba69042c-061e-4f71-baaf-8a4974b2d5a2\",\"subtype\":\"Figure\",\"type\":\"Plot\"},\"ticker\":{\"id\":\"15e436a1-daf4-4c4c-9a4d-a4a58449eb55\",\"type\":\"BasicTicker\"}},\"id\":\"d000a951-23e3-43b6-9a83-030ff94db606\",\"type\":\"LinearAxis\"},{\"attributes\":{\"plot\":{\"id\":\"ba69042c-061e-4f71-baaf-8a4974b2d5a2\",\"subtype\":\"Figure\",\"type\":\"Plot\"},\"ticker\":{\"id\":\"cb2b1a10-9595-4d31-9bf1-ce3f2a983809\",\"type\":\"BasicTicker\"}},\"id\":\"01bcf072-2344-4723-b215-82219ae4edb9\",\"type\":\"Grid\"},{\"attributes\":{},\"id\":\"cb2b1a10-9595-4d31-9bf1-ce3f2a983809\",\"type\":\"BasicTicker\"},{\"attributes\":{\"line_alpha\":0.1,\"line_color\":\"#1f77b4\",\"line_width\":2,\"x\":{\"field\":\"x\"},\"y\":{\"field\":\"y\"}},\"id\":\"e1b4a936-4142-42f9-896d-a71fde417e3d\",\"type\":\"Line\"},{\"attributes\":{\"below\":[{\"id\":\"379a9a71-0379-4db2-9a2b-4fabb7fd413b\",\"type\":\"LinearAxis\"}],\"left\":[{\"id\":\"d000a951-23e3-43b6-9a83-030ff94db606\",\"type\":\"LinearAxis\"}],\"plot_height\":400,\"plot_width\":400,\"renderers\":[{\"id\":\"379a9a71-0379-4db2-9a2b-4fabb7fd413b\",\"type\":\"LinearAxis\"},{\"id\":\"01bcf072-2344-4723-b215-82219ae4edb9\",\"type\":\"Grid\"},{\"id\":\"d000a951-23e3-43b6-9a83-030ff94db606\",\"type\":\"LinearAxis\"},{\"id\":\"0134c4ad-9b38-4237-8d27-39156d3edd37\",\"type\":\"Grid\"},{\"id\":\"f83c2f12-bd71-4f62-b32d-a951e617f919\",\"type\":\"BoxAnnotation\"},{\"id\":\"d6be5af7-cb9c-4159-bb6c-8af41e463fad\",\"type\":\"GlyphRenderer\"}],\"title\":{\"id\":\"a045a5d5-1e62-4430-b524-4cda7f0c9487\",\"type\":\"Title\"},\"toolbar\":{\"id\":\"8bfbdcfe-ef48-4c3a-b29c-caa84495c087\",\"type\":\"Toolbar\"},\"x_range\":{\"id\":\"0ac9fb13-ab85-47e9-9d53-ce9b54bda519\",\"type\":\"DataRange1d\"},\"x_scale\":{\"id\":\"d6fc23b6-96b9-4dc1-b979-1e052d988fee\",\"type\":\"LinearScale\"},\"y_range\":{\"id\":\"4acc591a-25db-4aea-b01d-fe395daa4782\",\"type\":\"DataRange1d\"},\"y_scale\":{\"id\":\"b734f912-0794-4cba-a132-0c1d40a7fb4a\",\"type\":\"LinearScale\"}},\"id\":\"ba69042c-061e-4f71-baaf-8a4974b2d5a2\",\"subtype\":\"Figure\",\"type\":\"Plot\"},{\"attributes\":{},\"id\":\"f82913b9-eede-4972-bd1d-9a0a7ab04984\",\"type\":\"HelpTool\"}],\"root_ids\":[\"ba69042c-061e-4f71-baaf-8a4974b2d5a2\"]},\"title\":\"Bokeh Application\",\"version\":\"0.12.14\"}};\n",
       "  var render_items = [{\"docid\":\"e237bde6-9c73-4b24-9775-f4942f35c254\",\"elementid\":\"94024a20-d36e-4510-a5d1-3e0e29fe7452\",\"modelid\":\"ba69042c-061e-4f71-baaf-8a4974b2d5a2\"}];\n",
       "  root.Bokeh.embed.embed_items_notebook(docs_json, render_items);\n",
       "\n",
       "  }\n",
       "  if (root.Bokeh !== undefined) {\n",
       "    embed_document(root);\n",
       "  } else {\n",
       "    var attempts = 0;\n",
       "    var timer = setInterval(function(root) {\n",
       "      if (root.Bokeh !== undefined) {\n",
       "        embed_document(root);\n",
       "        clearInterval(timer);\n",
       "      }\n",
       "      attempts++;\n",
       "      if (attempts > 100) {\n",
       "        console.log(\"Bokeh: ERROR: Unable to run BokehJS code because BokehJS library is missing\")\n",
       "        clearInterval(timer);\n",
       "      }\n",
       "    }, 10, root)\n",
       "  }\n",
       "})(window);"
      ],
      "application/vnd.bokehjs_exec.v0+json": ""
     },
     "metadata": {
      "application/vnd.bokehjs_exec.v0+json": {
       "id": "ba69042c-061e-4f71-baaf-8a4974b2d5a2"
      }
     },
     "output_type": "display_data"
    }
   ],
   "source": [
    "# create a new plot (with a title) using figure\n",
    "p = figure(plot_width=400, plot_height=400, title=\"My Line Plot\")\n",
    "\n",
    "# add a line renderer\n",
    "p.line([1, 2, 3, 4, 5], [6, 7, 2, 4, 5], line_width=2)\n",
    "\n",
    "show(p) # show the results"
   ]
  },
  {
   "cell_type": "markdown",
   "metadata": {},
   "source": [
    "# Images"
   ]
  },
  {
   "cell_type": "markdown",
   "metadata": {},
   "source": [
    "The example below shows how to use the `image_rgba` method to display raw RGBA data. \n",
    "\n",
    "**Note**: This example makes use of the NumPy library "
   ]
  },
  {
   "cell_type": "code",
   "execution_count": 16,
   "metadata": {},
   "outputs": [
    {
     "data": {
      "text/html": [
       "\n",
       "<div class=\"bk-root\">\n",
       "    <div class=\"bk-plotdiv\" id=\"286ac6e4-6879-432f-aed7-dc94cae53561\"></div>\n",
       "</div>"
      ]
     },
     "metadata": {},
     "output_type": "display_data"
    },
    {
     "data": {
      "application/javascript": [
       "(function(root) {\n",
       "  function embed_document(root) {\n",
       "    \n",
       "  var docs_json = {\"9bd7015f-1717-420d-8c47-4732adc625b0\":{\"roots\":{\"references\":[{\"attributes\":{},\"id\":\"00d71452-8b04-4005-ac46-92b9bfc9d2ed\",\"type\":\"BasicTickFormatter\"},{\"attributes\":{},\"id\":\"701e0337-bab0-4a9e-afcb-18cb9eb5651f\",\"type\":\"BasicTickFormatter\"},{\"attributes\":{\"dh\":{\"field\":\"dh\",\"units\":\"data\"},\"dw\":{\"field\":\"dw\",\"units\":\"data\"},\"image\":{\"field\":\"image\"},\"x\":{\"field\":\"x\"},\"y\":{\"field\":\"y\"}},\"id\":\"80046767-3f44-4e05-9312-78215f26a9b9\",\"type\":\"ImageRGBA\"},{\"attributes\":{\"plot\":null,\"text\":\"\"},\"id\":\"d55c43cf-a4b5-4d2d-926c-6f1ab29b7c6a\",\"type\":\"Title\"},{\"attributes\":{},\"id\":\"b03ccb9d-08b5-4212-8e4b-7eeeef7c9bad\",\"type\":\"BasicTicker\"},{\"attributes\":{\"plot\":{\"id\":\"ab134b35-beef-4cfd-94ed-50d7b02dcbaa\",\"subtype\":\"Figure\",\"type\":\"Plot\"},\"ticker\":{\"id\":\"b03ccb9d-08b5-4212-8e4b-7eeeef7c9bad\",\"type\":\"BasicTicker\"}},\"id\":\"1397e412-832f-4e19-b90c-3dc744fefa15\",\"type\":\"Grid\"},{\"attributes\":{\"formatter\":{\"id\":\"701e0337-bab0-4a9e-afcb-18cb9eb5651f\",\"type\":\"BasicTickFormatter\"},\"plot\":{\"id\":\"ab134b35-beef-4cfd-94ed-50d7b02dcbaa\",\"subtype\":\"Figure\",\"type\":\"Plot\"},\"ticker\":{\"id\":\"5bffa2a3-fff3-40c1-9074-5355da926983\",\"type\":\"BasicTicker\"}},\"id\":\"595390c1-d869-40c0-8965-0c0fab261676\",\"type\":\"LinearAxis\"},{\"attributes\":{},\"id\":\"5bffa2a3-fff3-40c1-9074-5355da926983\",\"type\":\"BasicTicker\"},{\"attributes\":{\"dimension\":1,\"plot\":{\"id\":\"ab134b35-beef-4cfd-94ed-50d7b02dcbaa\",\"subtype\":\"Figure\",\"type\":\"Plot\"},\"ticker\":{\"id\":\"5bffa2a3-fff3-40c1-9074-5355da926983\",\"type\":\"BasicTicker\"}},\"id\":\"e71e89ea-e86d-4b9e-9ac2-70d956a6f954\",\"type\":\"Grid\"},{\"attributes\":{\"data_source\":{\"id\":\"d224f83a-0942-46f1-a1d3-6e9b9b81b26e\",\"type\":\"ColumnDataSource\"},\"glyph\":{\"id\":\"8daa9bba-dbbb-4fbb-ae93-b5385a4ebe0a\",\"type\":\"ImageRGBA\"},\"hover_glyph\":null,\"muted_glyph\":null,\"nonselection_glyph\":{\"id\":\"80046767-3f44-4e05-9312-78215f26a9b9\",\"type\":\"ImageRGBA\"},\"selection_glyph\":null,\"view\":{\"id\":\"33e7c386-7ed0-4934-a04a-7d5058e7ebc9\",\"type\":\"CDSView\"}},\"id\":\"b282a700-dc6e-45a3-aef8-aa5fddcab1f7\",\"type\":\"GlyphRenderer\"},{\"attributes\":{\"dh\":{\"field\":\"dh\",\"units\":\"data\"},\"dw\":{\"field\":\"dw\",\"units\":\"data\"},\"image\":{\"field\":\"image\"},\"x\":{\"field\":\"x\"},\"y\":{\"field\":\"y\"}},\"id\":\"8daa9bba-dbbb-4fbb-ae93-b5385a4ebe0a\",\"type\":\"ImageRGBA\"},{\"attributes\":{\"callback\":null,\"column_names\":[\"image\",\"x\",\"y\",\"dw\",\"dh\"],\"data\":{\"dh\":[10],\"dw\":[10],\"image\":[{\"__ndarray__\":\"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\",\"dtype\":\"uint32\",\"shape\":[20,20]}],\"x\":[0],\"y\":[0]}},\"id\":\"d224f83a-0942-46f1-a1d3-6e9b9b81b26e\",\"type\":\"ColumnDataSource\"},{\"attributes\":{\"bottom_units\":\"screen\",\"fill_alpha\":{\"value\":0.5},\"fill_color\":{\"value\":\"lightgrey\"},\"left_units\":\"screen\",\"level\":\"overlay\",\"line_alpha\":{\"value\":1.0},\"line_color\":{\"value\":\"black\"},\"line_dash\":[4,4],\"line_width\":{\"value\":2},\"plot\":null,\"render_mode\":\"css\",\"right_units\":\"screen\",\"top_units\":\"screen\"},\"id\":\"2e9b1286-2223-4c0d-983e-3fbcb322b945\",\"type\":\"BoxAnnotation\"},{\"attributes\":{},\"id\":\"883c13ae-8119-4d27-b49e-6dfc1f6e2a95\",\"type\":\"PanTool\"},{\"attributes\":{\"below\":[{\"id\":\"cb18d320-01f2-42b5-9233-6bc56686c21f\",\"type\":\"LinearAxis\"}],\"left\":[{\"id\":\"595390c1-d869-40c0-8965-0c0fab261676\",\"type\":\"LinearAxis\"}],\"renderers\":[{\"id\":\"cb18d320-01f2-42b5-9233-6bc56686c21f\",\"type\":\"LinearAxis\"},{\"id\":\"1397e412-832f-4e19-b90c-3dc744fefa15\",\"type\":\"Grid\"},{\"id\":\"595390c1-d869-40c0-8965-0c0fab261676\",\"type\":\"LinearAxis\"},{\"id\":\"e71e89ea-e86d-4b9e-9ac2-70d956a6f954\",\"type\":\"Grid\"},{\"id\":\"2e9b1286-2223-4c0d-983e-3fbcb322b945\",\"type\":\"BoxAnnotation\"},{\"id\":\"b282a700-dc6e-45a3-aef8-aa5fddcab1f7\",\"type\":\"GlyphRenderer\"}],\"title\":{\"id\":\"d55c43cf-a4b5-4d2d-926c-6f1ab29b7c6a\",\"type\":\"Title\"},\"toolbar\":{\"id\":\"661f8319-f5e2-42f4-8416-e97cc29f5e82\",\"type\":\"Toolbar\"},\"x_range\":{\"id\":\"4ac1be97-a5f2-45a7-ba7f-e07b07988173\",\"type\":\"Range1d\"},\"x_scale\":{\"id\":\"85737fea-907e-47f8-91ef-d81c54951fb2\",\"type\":\"LinearScale\"},\"y_range\":{\"id\":\"9a6ac273-ade9-4d3a-a1fe-6608c3340954\",\"type\":\"Range1d\"},\"y_scale\":{\"id\":\"194e98dc-0bad-4163-8ded-d48e15e73e92\",\"type\":\"LinearScale\"}},\"id\":\"ab134b35-beef-4cfd-94ed-50d7b02dcbaa\",\"subtype\":\"Figure\",\"type\":\"Plot\"},{\"attributes\":{\"source\":{\"id\":\"d224f83a-0942-46f1-a1d3-6e9b9b81b26e\",\"type\":\"ColumnDataSource\"}},\"id\":\"33e7c386-7ed0-4934-a04a-7d5058e7ebc9\",\"type\":\"CDSView\"},{\"attributes\":{\"active_drag\":\"auto\",\"active_inspect\":\"auto\",\"active_scroll\":\"auto\",\"active_tap\":\"auto\",\"tools\":[{\"id\":\"883c13ae-8119-4d27-b49e-6dfc1f6e2a95\",\"type\":\"PanTool\"},{\"id\":\"2591d51f-7d00-4d8e-8992-7d05d1d63024\",\"type\":\"WheelZoomTool\"},{\"id\":\"9ae60b8f-1f72-42e6-9537-2bbc8a8cb486\",\"type\":\"BoxZoomTool\"},{\"id\":\"6ada35e9-e295-4285-8a49-95a451824178\",\"type\":\"SaveTool\"},{\"id\":\"5e650998-8df4-4bd9-a38f-053144057d2a\",\"type\":\"ResetTool\"},{\"id\":\"1e1b9a47-edde-4639-8188-df73007a8f6f\",\"type\":\"HelpTool\"}]},\"id\":\"661f8319-f5e2-42f4-8416-e97cc29f5e82\",\"type\":\"Toolbar\"},{\"attributes\":{},\"id\":\"2591d51f-7d00-4d8e-8992-7d05d1d63024\",\"type\":\"WheelZoomTool\"},{\"attributes\":{\"callback\":null,\"end\":10},\"id\":\"4ac1be97-a5f2-45a7-ba7f-e07b07988173\",\"type\":\"Range1d\"},{\"attributes\":{\"overlay\":{\"id\":\"2e9b1286-2223-4c0d-983e-3fbcb322b945\",\"type\":\"BoxAnnotation\"}},\"id\":\"9ae60b8f-1f72-42e6-9537-2bbc8a8cb486\",\"type\":\"BoxZoomTool\"},{\"attributes\":{\"formatter\":{\"id\":\"00d71452-8b04-4005-ac46-92b9bfc9d2ed\",\"type\":\"BasicTickFormatter\"},\"plot\":{\"id\":\"ab134b35-beef-4cfd-94ed-50d7b02dcbaa\",\"subtype\":\"Figure\",\"type\":\"Plot\"},\"ticker\":{\"id\":\"b03ccb9d-08b5-4212-8e4b-7eeeef7c9bad\",\"type\":\"BasicTicker\"}},\"id\":\"cb18d320-01f2-42b5-9233-6bc56686c21f\",\"type\":\"LinearAxis\"},{\"attributes\":{},\"id\":\"6ada35e9-e295-4285-8a49-95a451824178\",\"type\":\"SaveTool\"},{\"attributes\":{\"callback\":null,\"end\":10},\"id\":\"9a6ac273-ade9-4d3a-a1fe-6608c3340954\",\"type\":\"Range1d\"},{\"attributes\":{},\"id\":\"85737fea-907e-47f8-91ef-d81c54951fb2\",\"type\":\"LinearScale\"},{\"attributes\":{},\"id\":\"5e650998-8df4-4bd9-a38f-053144057d2a\",\"type\":\"ResetTool\"},{\"attributes\":{},\"id\":\"1e1b9a47-edde-4639-8188-df73007a8f6f\",\"type\":\"HelpTool\"},{\"attributes\":{},\"id\":\"194e98dc-0bad-4163-8ded-d48e15e73e92\",\"type\":\"LinearScale\"}],\"root_ids\":[\"ab134b35-beef-4cfd-94ed-50d7b02dcbaa\"]},\"title\":\"Bokeh Application\",\"version\":\"0.12.14\"}};\n",
       "  var render_items = [{\"docid\":\"9bd7015f-1717-420d-8c47-4732adc625b0\",\"elementid\":\"286ac6e4-6879-432f-aed7-dc94cae53561\",\"modelid\":\"ab134b35-beef-4cfd-94ed-50d7b02dcbaa\"}];\n",
       "  root.Bokeh.embed.embed_items_notebook(docs_json, render_items);\n",
       "\n",
       "  }\n",
       "  if (root.Bokeh !== undefined) {\n",
       "    embed_document(root);\n",
       "  } else {\n",
       "    var attempts = 0;\n",
       "    var timer = setInterval(function(root) {\n",
       "      if (root.Bokeh !== undefined) {\n",
       "        embed_document(root);\n",
       "        clearInterval(timer);\n",
       "      }\n",
       "      attempts++;\n",
       "      if (attempts > 100) {\n",
       "        console.log(\"Bokeh: ERROR: Unable to run BokehJS code because BokehJS library is missing\")\n",
       "        clearInterval(timer);\n",
       "      }\n",
       "    }, 10, root)\n",
       "  }\n",
       "})(window);"
      ],
      "application/vnd.bokehjs_exec.v0+json": ""
     },
     "metadata": {
      "application/vnd.bokehjs_exec.v0+json": {
       "id": "ab134b35-beef-4cfd-94ed-50d7b02dcbaa"
      }
     },
     "output_type": "display_data"
    }
   ],
   "source": [
    "from __future__ import division\n",
    "import numpy as np\n",
    "\n",
    "# set up some data\n",
    "N = 20\n",
    "img = np.empty((N,N), dtype=np.uint32)\n",
    "view = img.view(dtype=np.uint8).reshape((N, N, 4))\n",
    "for i in range(N):\n",
    "    for j in range(N):\n",
    "        view[i, j, 0] = int(i/N*255) # red\n",
    "        view[i, j, 1] = 158          # green\n",
    "        view[i, j, 2] = int(j/N*255) # blue\n",
    "        view[i, j, 3] = 255          # alpha\n",
    "        \n",
    "# create a new plot (with a fixed range) using figure\n",
    "p = figure(x_range=[0,10], y_range=[0,10])\n",
    "\n",
    "# add an RGBA image renderer\n",
    "p.image_rgba(image=[img], x=[0], y=[0], dw=[10], dh=[10])\n",
    "\n",
    "show(p) # show the results"
   ]
  },
  {
   "cell_type": "markdown",
   "metadata": {},
   "source": [
    "# Other Kinds of Glyphs\n",
    "\n",
    "Bokeh supports many other kinds of glyphs. You can click on the User Guide links below to see how to create plots with these glyphs using the [`bokeh.plotting`](http://bokeh.pydata.org/en/latest/docs/user_guide/plotting.html) interface.\n",
    "\n",
    "* [Rectangles and Ovals](http://bokeh.pydata.org/en/latest/docs/user_guide/plotting.html#rectangles-and-ovals)\n",
    "* [Segments and Rays](http://bokeh.pydata.org/en/latest/docs/user_guide/plotting.html#segments-and-rays)\n",
    "* [Wedges and Arcs](http://bokeh.pydata.org/en/latest/docs/user_guide/plotting.html#wedges-and-arcs)\n",
    "* [Specialized Curves](http://bokeh.pydata.org/en/latest/docs/user_guide/plotting.html#specialized-curves)\n"
   ]
  },
  {
   "cell_type": "code",
   "execution_count": 18,
   "metadata": {},
   "outputs": [
    {
     "data": {
      "text/html": [
       "\n",
       "<div class=\"bk-root\">\n",
       "    <div class=\"bk-plotdiv\" id=\"e3170168-1d49-4d9a-ba0f-55b65f99d2b8\"></div>\n",
       "</div>"
      ]
     },
     "metadata": {},
     "output_type": "display_data"
    },
    {
     "data": {
      "application/javascript": [
       "(function(root) {\n",
       "  function embed_document(root) {\n",
       "    \n",
       "  var docs_json = {\"d0dcc34d-b555-45ba-9d13-dddb44076d87\":{\"roots\":{\"references\":[{\"attributes\":{\"formatter\":{\"id\":\"c36ab953-4d5c-4079-97b5-d6d579ef5e95\",\"type\":\"BasicTickFormatter\"},\"plot\":{\"id\":\"428e6bb0-fe3f-4c01-8c27-c1c7dfe0707d\",\"subtype\":\"Figure\",\"type\":\"Plot\"},\"ticker\":{\"id\":\"8d70e282-a662-45f3-a26f-a2f263acede2\",\"type\":\"BasicTicker\"}},\"id\":\"f1d50df4-2c12-4293-bfc0-df4052b4c5ac\",\"type\":\"LinearAxis\"},{\"attributes\":{},\"id\":\"8d70e282-a662-45f3-a26f-a2f263acede2\",\"type\":\"BasicTicker\"},{\"attributes\":{},\"id\":\"4e4a49cd-4618-485a-a7a6-cd72abd14dec\",\"type\":\"BasicTickFormatter\"},{\"attributes\":{\"overlay\":{\"id\":\"61793ca2-0e77-4b47-9440-5943f332edd9\",\"type\":\"BoxAnnotation\"}},\"id\":\"29db6164-ccd3-494d-802a-f5571aaf1b4b\",\"type\":\"BoxZoomTool\"},{\"attributes\":{\"callback\":null},\"id\":\"2181d72b-4cca-4ac0-b79c-5f48d6912444\",\"type\":\"DataRange1d\"},{\"attributes\":{\"bottom_units\":\"screen\",\"fill_alpha\":{\"value\":0.5},\"fill_color\":{\"value\":\"lightgrey\"},\"left_units\":\"screen\",\"level\":\"overlay\",\"line_alpha\":{\"value\":1.0},\"line_color\":{\"value\":\"black\"},\"line_dash\":[4,4],\"line_width\":{\"value\":2},\"plot\":null,\"render_mode\":\"css\",\"right_units\":\"screen\",\"top_units\":\"screen\"},\"id\":\"61793ca2-0e77-4b47-9440-5943f332edd9\",\"type\":\"BoxAnnotation\"},{\"attributes\":{},\"id\":\"c36ab953-4d5c-4079-97b5-d6d579ef5e95\",\"type\":\"BasicTickFormatter\"},{\"attributes\":{\"data_source\":{\"id\":\"95c85e25-d0ca-4a81-b936-9a3d506db0d3\",\"type\":\"ColumnDataSource\"},\"glyph\":{\"id\":\"1b3e108c-a237-43d4-a4b8-7c35bdae3a6d\",\"type\":\"VBar\"},\"hover_glyph\":null,\"muted_glyph\":null,\"nonselection_glyph\":{\"id\":\"9444f040-0870-4500-bc7b-51b29200822e\",\"type\":\"VBar\"},\"selection_glyph\":null,\"view\":{\"id\":\"387aff48-8a4a-47d8-8da3-f60f4bd3dc14\",\"type\":\"CDSView\"}},\"id\":\"63b5e527-8b97-47da-8bb3-2a85c1397fbf\",\"type\":\"GlyphRenderer\"},{\"attributes\":{\"below\":[{\"id\":\"f1d50df4-2c12-4293-bfc0-df4052b4c5ac\",\"type\":\"LinearAxis\"}],\"left\":[{\"id\":\"8f10f3dd-514e-4176-99bf-855fb9017822\",\"type\":\"LinearAxis\"}],\"plot_height\":400,\"plot_width\":400,\"renderers\":[{\"id\":\"f1d50df4-2c12-4293-bfc0-df4052b4c5ac\",\"type\":\"LinearAxis\"},{\"id\":\"2deb32be-8dde-44c5-8fe7-93782dc0cdf8\",\"type\":\"Grid\"},{\"id\":\"8f10f3dd-514e-4176-99bf-855fb9017822\",\"type\":\"LinearAxis\"},{\"id\":\"1c8b103d-31f6-4b68-a3c6-3f63efcb47fa\",\"type\":\"Grid\"},{\"id\":\"61793ca2-0e77-4b47-9440-5943f332edd9\",\"type\":\"BoxAnnotation\"},{\"id\":\"63b5e527-8b97-47da-8bb3-2a85c1397fbf\",\"type\":\"GlyphRenderer\"}],\"title\":{\"id\":\"79953fb0-2a4a-4c1c-bb79-a5b310fa47b8\",\"type\":\"Title\"},\"toolbar\":{\"id\":\"442ee29c-c6e8-4436-a599-09dbfc136b0e\",\"type\":\"Toolbar\"},\"x_range\":{\"id\":\"9a62061c-4c2c-462f-87b3-5ab9f206786d\",\"type\":\"DataRange1d\"},\"x_scale\":{\"id\":\"b4acc4e3-d20c-461d-aac4-f7e35e599411\",\"type\":\"LinearScale\"},\"y_range\":{\"id\":\"2181d72b-4cca-4ac0-b79c-5f48d6912444\",\"type\":\"DataRange1d\"},\"y_scale\":{\"id\":\"7a8b6645-feeb-42a7-9a85-e527a63db908\",\"type\":\"LinearScale\"}},\"id\":\"428e6bb0-fe3f-4c01-8c27-c1c7dfe0707d\",\"subtype\":\"Figure\",\"type\":\"Plot\"},{\"attributes\":{\"dimension\":1,\"plot\":{\"id\":\"428e6bb0-fe3f-4c01-8c27-c1c7dfe0707d\",\"subtype\":\"Figure\",\"type\":\"Plot\"},\"ticker\":{\"id\":\"7597906e-b12c-4e94-b0ed-47da5b0b6d95\",\"type\":\"BasicTicker\"}},\"id\":\"1c8b103d-31f6-4b68-a3c6-3f63efcb47fa\",\"type\":\"Grid\"},{\"attributes\":{},\"id\":\"b4acc4e3-d20c-461d-aac4-f7e35e599411\",\"type\":\"LinearScale\"},{\"attributes\":{},\"id\":\"be084b02-1f7b-4d9e-9b33-883a6730011a\",\"type\":\"SaveTool\"},{\"attributes\":{\"fill_color\":{\"value\":\"firebrick\"},\"line_color\":{\"value\":\"firebrick\"},\"top\":{\"field\":\"top\"},\"width\":{\"value\":0.5},\"x\":{\"field\":\"x\"}},\"id\":\"1b3e108c-a237-43d4-a4b8-7c35bdae3a6d\",\"type\":\"VBar\"},{\"attributes\":{\"active_drag\":\"auto\",\"active_inspect\":\"auto\",\"active_scroll\":\"auto\",\"active_tap\":\"auto\",\"tools\":[{\"id\":\"015fd0b0-a263-4d70-8a08-9c052e74bfd5\",\"type\":\"PanTool\"},{\"id\":\"81b3ec71-3d28-452b-bc6d-9ce831b05956\",\"type\":\"WheelZoomTool\"},{\"id\":\"29db6164-ccd3-494d-802a-f5571aaf1b4b\",\"type\":\"BoxZoomTool\"},{\"id\":\"be084b02-1f7b-4d9e-9b33-883a6730011a\",\"type\":\"SaveTool\"},{\"id\":\"99ffd482-fab8-433f-a4a7-280870c48492\",\"type\":\"ResetTool\"},{\"id\":\"708e5dc6-48d5-41f7-9a3c-7b12a8dc3b46\",\"type\":\"HelpTool\"}]},\"id\":\"442ee29c-c6e8-4436-a599-09dbfc136b0e\",\"type\":\"Toolbar\"},{\"attributes\":{\"fill_alpha\":{\"value\":0.1},\"fill_color\":{\"value\":\"#1f77b4\"},\"line_alpha\":{\"value\":0.1},\"line_color\":{\"value\":\"#1f77b4\"},\"top\":{\"field\":\"top\"},\"width\":{\"value\":0.5},\"x\":{\"field\":\"x\"}},\"id\":\"9444f040-0870-4500-bc7b-51b29200822e\",\"type\":\"VBar\"},{\"attributes\":{},\"id\":\"7597906e-b12c-4e94-b0ed-47da5b0b6d95\",\"type\":\"BasicTicker\"},{\"attributes\":{},\"id\":\"015fd0b0-a263-4d70-8a08-9c052e74bfd5\",\"type\":\"PanTool\"},{\"attributes\":{\"plot\":null,\"text\":\"\"},\"id\":\"79953fb0-2a4a-4c1c-bb79-a5b310fa47b8\",\"type\":\"Title\"},{\"attributes\":{},\"id\":\"81b3ec71-3d28-452b-bc6d-9ce831b05956\",\"type\":\"WheelZoomTool\"},{\"attributes\":{},\"id\":\"99ffd482-fab8-433f-a4a7-280870c48492\",\"type\":\"ResetTool\"},{\"attributes\":{\"callback\":null},\"id\":\"9a62061c-4c2c-462f-87b3-5ab9f206786d\",\"type\":\"DataRange1d\"},{\"attributes\":{},\"id\":\"708e5dc6-48d5-41f7-9a3c-7b12a8dc3b46\",\"type\":\"HelpTool\"},{\"attributes\":{\"callback\":null,\"column_names\":[\"x\",\"top\"],\"data\":{\"top\":[1.2,2.5,3.7],\"x\":[1,2,3]}},\"id\":\"95c85e25-d0ca-4a81-b936-9a3d506db0d3\",\"type\":\"ColumnDataSource\"},{\"attributes\":{\"source\":{\"id\":\"95c85e25-d0ca-4a81-b936-9a3d506db0d3\",\"type\":\"ColumnDataSource\"}},\"id\":\"387aff48-8a4a-47d8-8da3-f60f4bd3dc14\",\"type\":\"CDSView\"},{\"attributes\":{},\"id\":\"7a8b6645-feeb-42a7-9a85-e527a63db908\",\"type\":\"LinearScale\"},{\"attributes\":{\"formatter\":{\"id\":\"4e4a49cd-4618-485a-a7a6-cd72abd14dec\",\"type\":\"BasicTickFormatter\"},\"plot\":{\"id\":\"428e6bb0-fe3f-4c01-8c27-c1c7dfe0707d\",\"subtype\":\"Figure\",\"type\":\"Plot\"},\"ticker\":{\"id\":\"7597906e-b12c-4e94-b0ed-47da5b0b6d95\",\"type\":\"BasicTicker\"}},\"id\":\"8f10f3dd-514e-4176-99bf-855fb9017822\",\"type\":\"LinearAxis\"},{\"attributes\":{\"plot\":{\"id\":\"428e6bb0-fe3f-4c01-8c27-c1c7dfe0707d\",\"subtype\":\"Figure\",\"type\":\"Plot\"},\"ticker\":{\"id\":\"8d70e282-a662-45f3-a26f-a2f263acede2\",\"type\":\"BasicTicker\"}},\"id\":\"2deb32be-8dde-44c5-8fe7-93782dc0cdf8\",\"type\":\"Grid\"}],\"root_ids\":[\"428e6bb0-fe3f-4c01-8c27-c1c7dfe0707d\"]},\"title\":\"Bokeh Application\",\"version\":\"0.12.14\"}};\n",
       "  var render_items = [{\"docid\":\"d0dcc34d-b555-45ba-9d13-dddb44076d87\",\"elementid\":\"e3170168-1d49-4d9a-ba0f-55b65f99d2b8\",\"modelid\":\"428e6bb0-fe3f-4c01-8c27-c1c7dfe0707d\"}];\n",
       "  root.Bokeh.embed.embed_items_notebook(docs_json, render_items);\n",
       "\n",
       "  }\n",
       "  if (root.Bokeh !== undefined) {\n",
       "    embed_document(root);\n",
       "  } else {\n",
       "    var attempts = 0;\n",
       "    var timer = setInterval(function(root) {\n",
       "      if (root.Bokeh !== undefined) {\n",
       "        embed_document(root);\n",
       "        clearInterval(timer);\n",
       "      }\n",
       "      attempts++;\n",
       "      if (attempts > 100) {\n",
       "        console.log(\"Bokeh: ERROR: Unable to run BokehJS code because BokehJS library is missing\")\n",
       "        clearInterval(timer);\n",
       "      }\n",
       "    }, 10, root)\n",
       "  }\n",
       "})(window);"
      ],
      "application/vnd.bokehjs_exec.v0+json": ""
     },
     "metadata": {
      "application/vnd.bokehjs_exec.v0+json": {
       "id": "428e6bb0-fe3f-4c01-8c27-c1c7dfe0707d"
      }
     },
     "output_type": "display_data"
    }
   ],
   "source": [
    "# EXERCISE: Plot some of the other glyph types, following the examples in the User Guide. \n",
    "\n",
    "from bokeh.plotting import figure, show, output_file\n",
    "\n",
    "output_file('vbar.html')\n",
    "\n",
    "p = figure(plot_width=400, plot_height=400)\n",
    "p.vbar(x=[1, 2, 3], width=0.5, bottom=0,\n",
    "       top=[1.2, 2.5, 3.7], color=\"firebrick\")\n",
    "\n",
    "show(p)"
   ]
  },
  {
   "cell_type": "markdown",
   "metadata": {},
   "source": [
    "# Plots with Multiple Glyphs \n",
    "\n",
    "It is possible to combine more than one glyph on a single figure. You just need to call multiple glyph methods on one figure object:"
   ]
  },
  {
   "cell_type": "code",
   "execution_count": 17,
   "metadata": {},
   "outputs": [
    {
     "data": {
      "text/html": [
       "\n",
       "<div class=\"bk-root\">\n",
       "    <div class=\"bk-plotdiv\" id=\"bacb5a60-ccb2-4a98-a2b8-e6a9fe26d9dd\"></div>\n",
       "</div>"
      ]
     },
     "metadata": {},
     "output_type": "display_data"
    },
    {
     "data": {
      "application/javascript": [
       "(function(root) {\n",
       "  function embed_document(root) {\n",
       "    \n",
       "  var docs_json = {\"00032e5b-86bb-4a80-adbf-3a4d005673db\":{\"roots\":{\"references\":[{\"attributes\":{\"data_source\":{\"id\":\"f2026bae-fe92-4062-aed3-85f3f41a97f8\",\"type\":\"ColumnDataSource\"},\"glyph\":{\"id\":\"49d29dcf-5ca8-4e08-a52a-11ebc35a0db8\",\"type\":\"Line\"},\"hover_glyph\":null,\"muted_glyph\":null,\"nonselection_glyph\":{\"id\":\"ac153b6a-3fdd-4363-8ac0-4e682bceb4a4\",\"type\":\"Line\"},\"selection_glyph\":null,\"view\":{\"id\":\"d7ceaaf0-e4a4-4877-b09e-05e969b92e12\",\"type\":\"CDSView\"}},\"id\":\"0f86cef9-36c4-4b81-9d97-0f4f227935bf\",\"type\":\"GlyphRenderer\"},{\"attributes\":{\"plot\":{\"id\":\"f8ee9d00-9652-4fd4-8232-ccbf52c77648\",\"subtype\":\"Figure\",\"type\":\"Plot\"},\"ticker\":{\"id\":\"8e182cc1-bf87-4b16-b5a4-76f2d7955bb0\",\"type\":\"BasicTicker\"}},\"id\":\"79d8107d-e739-4a45-8a5d-a4f503167f3e\",\"type\":\"Grid\"},{\"attributes\":{\"source\":{\"id\":\"f2026bae-fe92-4062-aed3-85f3f41a97f8\",\"type\":\"ColumnDataSource\"}},\"id\":\"d7ceaaf0-e4a4-4877-b09e-05e969b92e12\",\"type\":\"CDSView\"},{\"attributes\":{\"dimension\":1,\"plot\":{\"id\":\"f8ee9d00-9652-4fd4-8232-ccbf52c77648\",\"subtype\":\"Figure\",\"type\":\"Plot\"},\"ticker\":{\"id\":\"597fbfd0-c506-4092-9c3f-a9993080e525\",\"type\":\"BasicTicker\"}},\"id\":\"5c39f5bf-1c1d-481d-be6f-a93a8b7568f7\",\"type\":\"Grid\"},{\"attributes\":{\"overlay\":{\"id\":\"ca360c51-578b-4ce1-bc36-bc7c3c98956b\",\"type\":\"BoxAnnotation\"}},\"id\":\"e0ff6979-748d-43c6-914f-732a04057530\",\"type\":\"BoxZoomTool\"},{\"attributes\":{},\"id\":\"326ef952-ec86-4a1d-a32e-d985cf333623\",\"type\":\"BasicTickFormatter\"},{\"attributes\":{},\"id\":\"0551bced-00b5-452b-9f04-73972166b80a\",\"type\":\"SaveTool\"},{\"attributes\":{},\"id\":\"a2827266-0bdc-4129-b0b9-1a07adb86645\",\"type\":\"ResetTool\"},{\"attributes\":{},\"id\":\"3626cf8d-d1e5-4126-9d5e-f5191a80713d\",\"type\":\"HelpTool\"},{\"attributes\":{\"line_color\":\"#1f77b4\",\"line_width\":2,\"x\":{\"field\":\"x\"},\"y\":{\"field\":\"y\"}},\"id\":\"49d29dcf-5ca8-4e08-a52a-11ebc35a0db8\",\"type\":\"Line\"},{\"attributes\":{},\"id\":\"247a1057-fe63-4caa-8dac-b0fed77a1ac7\",\"type\":\"BasicTickFormatter\"},{\"attributes\":{\"plot\":null,\"text\":\"\"},\"id\":\"4da2b8b0-34ef-45a6-a563-933003062cce\",\"type\":\"Title\"},{\"attributes\":{\"callback\":null},\"id\":\"cad897b7-ec74-4e01-bb94-c93b909a6db4\",\"type\":\"DataRange1d\"},{\"attributes\":{\"callback\":null,\"column_names\":[\"x\",\"y\"],\"data\":{\"x\":[1,2,3,4,5],\"y\":[6,7,8,7,3]}},\"id\":\"f2026bae-fe92-4062-aed3-85f3f41a97f8\",\"type\":\"ColumnDataSource\"},{\"attributes\":{},\"id\":\"4e4d3a69-c92d-4906-a9eb-677880c1d48f\",\"type\":\"WheelZoomTool\"},{\"attributes\":{\"line_alpha\":0.1,\"line_color\":\"#1f77b4\",\"line_width\":2,\"x\":{\"field\":\"x\"},\"y\":{\"field\":\"y\"}},\"id\":\"ac153b6a-3fdd-4363-8ac0-4e682bceb4a4\",\"type\":\"Line\"},{\"attributes\":{\"bottom_units\":\"screen\",\"fill_alpha\":{\"value\":0.5},\"fill_color\":{\"value\":\"lightgrey\"},\"left_units\":\"screen\",\"level\":\"overlay\",\"line_alpha\":{\"value\":1.0},\"line_color\":{\"value\":\"black\"},\"line_dash\":[4,4],\"line_width\":{\"value\":2},\"plot\":null,\"render_mode\":\"css\",\"right_units\":\"screen\",\"top_units\":\"screen\"},\"id\":\"ca360c51-578b-4ce1-bc36-bc7c3c98956b\",\"type\":\"BoxAnnotation\"},{\"attributes\":{},\"id\":\"bd125dad-c779-4db8-aa2d-e6570ffc3b82\",\"type\":\"PanTool\"},{\"attributes\":{\"callback\":null,\"column_names\":[\"x\",\"y\"],\"data\":{\"x\":[1,2,3,4,5],\"y\":[6,7,8,7,3]}},\"id\":\"8f55867a-54e0-44d0-a8e3-827fbbe59770\",\"type\":\"ColumnDataSource\"},{\"attributes\":{},\"id\":\"faa15531-b839-4b11-9abb-6c9c8006e1f8\",\"type\":\"LinearScale\"},{\"attributes\":{\"fill_alpha\":{\"value\":0.1},\"fill_color\":{\"value\":\"#1f77b4\"},\"line_alpha\":{\"value\":0.1},\"line_color\":{\"value\":\"#1f77b4\"},\"size\":{\"units\":\"screen\",\"value\":8},\"x\":{\"field\":\"x\"},\"y\":{\"field\":\"y\"}},\"id\":\"c53a83e8-9e5e-4746-bdab-3c131e355c5e\",\"type\":\"Circle\"},{\"attributes\":{\"data_source\":{\"id\":\"8f55867a-54e0-44d0-a8e3-827fbbe59770\",\"type\":\"ColumnDataSource\"},\"glyph\":{\"id\":\"b25ab28f-cefb-40de-8b21-596778f50122\",\"type\":\"Circle\"},\"hover_glyph\":null,\"muted_glyph\":null,\"nonselection_glyph\":{\"id\":\"c53a83e8-9e5e-4746-bdab-3c131e355c5e\",\"type\":\"Circle\"},\"selection_glyph\":null,\"view\":{\"id\":\"14da32f6-289f-4c86-ba4e-90222292f035\",\"type\":\"CDSView\"}},\"id\":\"00d25405-fea5-4fb3-a485-21d2e116c8a0\",\"type\":\"GlyphRenderer\"},{\"attributes\":{},\"id\":\"597fbfd0-c506-4092-9c3f-a9993080e525\",\"type\":\"BasicTicker\"},{\"attributes\":{\"callback\":null},\"id\":\"9ae1e419-edff-4ea0-a355-4276fd08b40b\",\"type\":\"DataRange1d\"},{\"attributes\":{\"below\":[{\"id\":\"908de89f-b0e7-4c95-92a6-f3e6957bddcb\",\"type\":\"LinearAxis\"}],\"left\":[{\"id\":\"0df601a8-8949-4486-b77d-0850b7186e98\",\"type\":\"LinearAxis\"}],\"plot_height\":400,\"plot_width\":400,\"renderers\":[{\"id\":\"908de89f-b0e7-4c95-92a6-f3e6957bddcb\",\"type\":\"LinearAxis\"},{\"id\":\"79d8107d-e739-4a45-8a5d-a4f503167f3e\",\"type\":\"Grid\"},{\"id\":\"0df601a8-8949-4486-b77d-0850b7186e98\",\"type\":\"LinearAxis\"},{\"id\":\"5c39f5bf-1c1d-481d-be6f-a93a8b7568f7\",\"type\":\"Grid\"},{\"id\":\"ca360c51-578b-4ce1-bc36-bc7c3c98956b\",\"type\":\"BoxAnnotation\"},{\"id\":\"0f86cef9-36c4-4b81-9d97-0f4f227935bf\",\"type\":\"GlyphRenderer\"},{\"id\":\"00d25405-fea5-4fb3-a485-21d2e116c8a0\",\"type\":\"GlyphRenderer\"}],\"title\":{\"id\":\"4da2b8b0-34ef-45a6-a563-933003062cce\",\"type\":\"Title\"},\"toolbar\":{\"id\":\"26a43a60-97b8-4fca-b072-e2da99d3d843\",\"type\":\"Toolbar\"},\"x_range\":{\"id\":\"9ae1e419-edff-4ea0-a355-4276fd08b40b\",\"type\":\"DataRange1d\"},\"x_scale\":{\"id\":\"faa15531-b839-4b11-9abb-6c9c8006e1f8\",\"type\":\"LinearScale\"},\"y_range\":{\"id\":\"cad897b7-ec74-4e01-bb94-c93b909a6db4\",\"type\":\"DataRange1d\"},\"y_scale\":{\"id\":\"ee9f3cd6-1d08-43c0-93b5-12ea003cc513\",\"type\":\"LinearScale\"}},\"id\":\"f8ee9d00-9652-4fd4-8232-ccbf52c77648\",\"subtype\":\"Figure\",\"type\":\"Plot\"},{\"attributes\":{\"source\":{\"id\":\"8f55867a-54e0-44d0-a8e3-827fbbe59770\",\"type\":\"ColumnDataSource\"}},\"id\":\"14da32f6-289f-4c86-ba4e-90222292f035\",\"type\":\"CDSView\"},{\"attributes\":{},\"id\":\"ee9f3cd6-1d08-43c0-93b5-12ea003cc513\",\"type\":\"LinearScale\"},{\"attributes\":{\"formatter\":{\"id\":\"247a1057-fe63-4caa-8dac-b0fed77a1ac7\",\"type\":\"BasicTickFormatter\"},\"plot\":{\"id\":\"f8ee9d00-9652-4fd4-8232-ccbf52c77648\",\"subtype\":\"Figure\",\"type\":\"Plot\"},\"ticker\":{\"id\":\"597fbfd0-c506-4092-9c3f-a9993080e525\",\"type\":\"BasicTicker\"}},\"id\":\"0df601a8-8949-4486-b77d-0850b7186e98\",\"type\":\"LinearAxis\"},{\"attributes\":{\"fill_color\":{\"value\":\"white\"},\"line_color\":{\"value\":\"#1f77b4\"},\"size\":{\"units\":\"screen\",\"value\":8},\"x\":{\"field\":\"x\"},\"y\":{\"field\":\"y\"}},\"id\":\"b25ab28f-cefb-40de-8b21-596778f50122\",\"type\":\"Circle\"},{\"attributes\":{\"formatter\":{\"id\":\"326ef952-ec86-4a1d-a32e-d985cf333623\",\"type\":\"BasicTickFormatter\"},\"plot\":{\"id\":\"f8ee9d00-9652-4fd4-8232-ccbf52c77648\",\"subtype\":\"Figure\",\"type\":\"Plot\"},\"ticker\":{\"id\":\"8e182cc1-bf87-4b16-b5a4-76f2d7955bb0\",\"type\":\"BasicTicker\"}},\"id\":\"908de89f-b0e7-4c95-92a6-f3e6957bddcb\",\"type\":\"LinearAxis\"},{\"attributes\":{\"active_drag\":\"auto\",\"active_inspect\":\"auto\",\"active_scroll\":\"auto\",\"active_tap\":\"auto\",\"tools\":[{\"id\":\"bd125dad-c779-4db8-aa2d-e6570ffc3b82\",\"type\":\"PanTool\"},{\"id\":\"4e4d3a69-c92d-4906-a9eb-677880c1d48f\",\"type\":\"WheelZoomTool\"},{\"id\":\"e0ff6979-748d-43c6-914f-732a04057530\",\"type\":\"BoxZoomTool\"},{\"id\":\"0551bced-00b5-452b-9f04-73972166b80a\",\"type\":\"SaveTool\"},{\"id\":\"a2827266-0bdc-4129-b0b9-1a07adb86645\",\"type\":\"ResetTool\"},{\"id\":\"3626cf8d-d1e5-4126-9d5e-f5191a80713d\",\"type\":\"HelpTool\"}]},\"id\":\"26a43a60-97b8-4fca-b072-e2da99d3d843\",\"type\":\"Toolbar\"},{\"attributes\":{},\"id\":\"8e182cc1-bf87-4b16-b5a4-76f2d7955bb0\",\"type\":\"BasicTicker\"}],\"root_ids\":[\"f8ee9d00-9652-4fd4-8232-ccbf52c77648\"]},\"title\":\"Bokeh Application\",\"version\":\"0.12.14\"}};\n",
       "  var render_items = [{\"docid\":\"00032e5b-86bb-4a80-adbf-3a4d005673db\",\"elementid\":\"bacb5a60-ccb2-4a98-a2b8-e6a9fe26d9dd\",\"modelid\":\"f8ee9d00-9652-4fd4-8232-ccbf52c77648\"}];\n",
       "  root.Bokeh.embed.embed_items_notebook(docs_json, render_items);\n",
       "\n",
       "  }\n",
       "  if (root.Bokeh !== undefined) {\n",
       "    embed_document(root);\n",
       "  } else {\n",
       "    var attempts = 0;\n",
       "    var timer = setInterval(function(root) {\n",
       "      if (root.Bokeh !== undefined) {\n",
       "        embed_document(root);\n",
       "        clearInterval(timer);\n",
       "      }\n",
       "      attempts++;\n",
       "      if (attempts > 100) {\n",
       "        console.log(\"Bokeh: ERROR: Unable to run BokehJS code because BokehJS library is missing\")\n",
       "        clearInterval(timer);\n",
       "      }\n",
       "    }, 10, root)\n",
       "  }\n",
       "})(window);"
      ],
      "application/vnd.bokehjs_exec.v0+json": ""
     },
     "metadata": {
      "application/vnd.bokehjs_exec.v0+json": {
       "id": "f8ee9d00-9652-4fd4-8232-ccbf52c77648"
      }
     },
     "output_type": "display_data"
    }
   ],
   "source": [
    "# set up some data\n",
    "x = [1, 2, 3, 4, 5]\n",
    "y = [6, 7, 8, 7, 3]\n",
    "\n",
    "# create a new plot with figure\n",
    "p = figure(plot_width=400, plot_height=400)\n",
    "\n",
    "# add both a line and circles on the same plot\n",
    "p.line(x, y, line_width=2)\n",
    "p.circle(x, y, fill_color=\"white\", size=8)\n",
    "\n",
    "show(p) # show the results"
   ]
  },
  {
   "cell_type": "code",
   "execution_count": 20,
   "metadata": {},
   "outputs": [
    {
     "data": {
      "text/html": [
       "\n",
       "<div class=\"bk-root\">\n",
       "    <div class=\"bk-plotdiv\" id=\"14f437e0-12c1-4ac6-b480-d4fe6a491396\"></div>\n",
       "</div>"
      ]
     },
     "metadata": {},
     "output_type": "display_data"
    },
    {
     "data": {
      "application/javascript": [
       "(function(root) {\n",
       "  function embed_document(root) {\n",
       "    \n",
       "  var docs_json = {\"d5fee84a-f20c-4dc0-9442-8dfd59f4d462\":{\"roots\":{\"references\":[{\"attributes\":{},\"id\":\"593c3cb8-7596-4dfd-87ff-41fba0ec772b\",\"type\":\"HelpTool\"},{\"attributes\":{},\"id\":\"2b33dcc7-6b77-40e0-bc4d-8d06b5520735\",\"type\":\"SaveTool\"},{\"attributes\":{\"overlay\":{\"id\":\"196d97f4-2509-4b17-b6a5-e606b64e6096\",\"type\":\"BoxAnnotation\"}},\"id\":\"abd32acf-d340-49fb-98bc-7d2e8fbe9da9\",\"type\":\"BoxZoomTool\"},{\"attributes\":{\"bottom_units\":\"screen\",\"fill_alpha\":{\"value\":0.5},\"fill_color\":{\"value\":\"lightgrey\"},\"left_units\":\"screen\",\"level\":\"overlay\",\"line_alpha\":{\"value\":1.0},\"line_color\":{\"value\":\"black\"},\"line_dash\":[4,4],\"line_width\":{\"value\":2},\"plot\":null,\"render_mode\":\"css\",\"right_units\":\"screen\",\"top_units\":\"screen\"},\"id\":\"196d97f4-2509-4b17-b6a5-e606b64e6096\",\"type\":\"BoxAnnotation\"},{\"attributes\":{\"callback\":null},\"id\":\"e7a4bae9-648f-4f2e-8bfe-dffdd15edef6\",\"type\":\"DataRange1d\"},{\"attributes\":{},\"id\":\"1d2c10e4-cbf8-4e59-9949-8e1df4578ecd\",\"type\":\"LinearScale\"},{\"attributes\":{\"line_alpha\":0.1,\"line_color\":\"#1f77b4\",\"line_width\":2,\"x\":{\"field\":\"x\"},\"y\":{\"field\":\"y\"}},\"id\":\"149eb7cc-d222-4a9e-b0f4-b4812cf4dd8a\",\"type\":\"Line\"},{\"attributes\":{\"data_source\":{\"id\":\"4b92e76e-7790-4b0f-abc6-aa2831d34b0a\",\"type\":\"ColumnDataSource\"},\"glyph\":{\"id\":\"3f800565-dc11-463d-a5cf-8c80cb7bbc04\",\"type\":\"VBar\"},\"hover_glyph\":null,\"muted_glyph\":null,\"nonselection_glyph\":{\"id\":\"7c325352-b9ad-41db-bdd8-a7da38f99e78\",\"type\":\"VBar\"},\"selection_glyph\":null,\"view\":{\"id\":\"e3a3b738-c448-4e5d-933a-fef06ccfe3e0\",\"type\":\"CDSView\"}},\"id\":\"f2a79002-68d4-4563-9b57-fb35c8e4a10a\",\"type\":\"GlyphRenderer\"},{\"attributes\":{},\"id\":\"96e1aa1d-b00b-4283-bb27-4b812e97e32c\",\"type\":\"BasicTicker\"},{\"attributes\":{\"callback\":null,\"column_names\":[\"x\",\"y\"],\"data\":{\"x\":[1,2,3,4,5],\"y\":[6,7,8,7,3]}},\"id\":\"0e1dcb0d-a5e1-475c-b542-ff3f2587a0e5\",\"type\":\"ColumnDataSource\"},{\"attributes\":{},\"id\":\"c56bc0e5-cc9c-4483-b96b-e1b32c3052e8\",\"type\":\"BasicTickFormatter\"},{\"attributes\":{\"active_drag\":\"auto\",\"active_inspect\":\"auto\",\"active_scroll\":\"auto\",\"active_tap\":\"auto\",\"tools\":[{\"id\":\"4a543e3c-cc94-4e5b-8fca-d5d10ff43c69\",\"type\":\"PanTool\"},{\"id\":\"2885010b-016a-47a3-b9c2-daf120ee5ad8\",\"type\":\"WheelZoomTool\"},{\"id\":\"abd32acf-d340-49fb-98bc-7d2e8fbe9da9\",\"type\":\"BoxZoomTool\"},{\"id\":\"2b33dcc7-6b77-40e0-bc4d-8d06b5520735\",\"type\":\"SaveTool\"},{\"id\":\"6bc791da-bc33-458c-a0b6-d30a5cc76141\",\"type\":\"ResetTool\"},{\"id\":\"593c3cb8-7596-4dfd-87ff-41fba0ec772b\",\"type\":\"HelpTool\"}]},\"id\":\"0c062223-660c-4d64-bb6c-079e5cb17211\",\"type\":\"Toolbar\"},{\"attributes\":{\"line_color\":\"#1f77b4\",\"line_width\":2,\"x\":{\"field\":\"x\"},\"y\":{\"field\":\"y\"}},\"id\":\"d5a583c9-5191-4fa9-8ada-65bedfb7007f\",\"type\":\"Line\"},{\"attributes\":{},\"id\":\"2885010b-016a-47a3-b9c2-daf120ee5ad8\",\"type\":\"WheelZoomTool\"},{\"attributes\":{\"plot\":{\"id\":\"a69b15e7-4bce-422e-9644-7dacd1682f14\",\"subtype\":\"Figure\",\"type\":\"Plot\"},\"ticker\":{\"id\":\"e29fc70e-f683-4161-8c8f-0fbd1502dfd6\",\"type\":\"BasicTicker\"}},\"id\":\"87d9f502-332c-45b5-b950-fd7667b91d05\",\"type\":\"Grid\"},{\"attributes\":{},\"id\":\"7277a8dc-8e99-489e-890a-007e46383991\",\"type\":\"LinearScale\"},{\"attributes\":{},\"id\":\"6bc791da-bc33-458c-a0b6-d30a5cc76141\",\"type\":\"ResetTool\"},{\"attributes\":{},\"id\":\"a29c36e6-5235-4dd4-9df3-47e6188e0367\",\"type\":\"BasicTickFormatter\"},{\"attributes\":{},\"id\":\"4a543e3c-cc94-4e5b-8fca-d5d10ff43c69\",\"type\":\"PanTool\"},{\"attributes\":{\"formatter\":{\"id\":\"c56bc0e5-cc9c-4483-b96b-e1b32c3052e8\",\"type\":\"BasicTickFormatter\"},\"plot\":{\"id\":\"a69b15e7-4bce-422e-9644-7dacd1682f14\",\"subtype\":\"Figure\",\"type\":\"Plot\"},\"ticker\":{\"id\":\"e29fc70e-f683-4161-8c8f-0fbd1502dfd6\",\"type\":\"BasicTicker\"}},\"id\":\"3d28f906-555f-4eb3-9ef8-1eda7b6efd35\",\"type\":\"LinearAxis\"},{\"attributes\":{\"fill_alpha\":{\"value\":0.1},\"fill_color\":{\"value\":\"#1f77b4\"},\"line_alpha\":{\"value\":0.1},\"line_color\":{\"value\":\"#1f77b4\"},\"top\":{\"field\":\"top\"},\"width\":{\"value\":0.5},\"x\":{\"field\":\"x\"}},\"id\":\"7c325352-b9ad-41db-bdd8-a7da38f99e78\",\"type\":\"VBar\"},{\"attributes\":{\"below\":[{\"id\":\"3d28f906-555f-4eb3-9ef8-1eda7b6efd35\",\"type\":\"LinearAxis\"}],\"left\":[{\"id\":\"45cdcb51-4b41-443c-bc82-12d159c519fc\",\"type\":\"LinearAxis\"}],\"plot_height\":400,\"plot_width\":400,\"renderers\":[{\"id\":\"3d28f906-555f-4eb3-9ef8-1eda7b6efd35\",\"type\":\"LinearAxis\"},{\"id\":\"87d9f502-332c-45b5-b950-fd7667b91d05\",\"type\":\"Grid\"},{\"id\":\"45cdcb51-4b41-443c-bc82-12d159c519fc\",\"type\":\"LinearAxis\"},{\"id\":\"f57f6cbb-9de5-400b-8cd4-f24ac369c667\",\"type\":\"Grid\"},{\"id\":\"196d97f4-2509-4b17-b6a5-e606b64e6096\",\"type\":\"BoxAnnotation\"},{\"id\":\"f2a79002-68d4-4563-9b57-fb35c8e4a10a\",\"type\":\"GlyphRenderer\"},{\"id\":\"dada0ed1-85bc-408c-8089-9f31bac2e20b\",\"type\":\"GlyphRenderer\"}],\"title\":{\"id\":\"dde1cf8a-9ed1-44e3-9e2b-0f8c1461a774\",\"type\":\"Title\"},\"toolbar\":{\"id\":\"0c062223-660c-4d64-bb6c-079e5cb17211\",\"type\":\"Toolbar\"},\"x_range\":{\"id\":\"4a4fff97-962f-4dc2-9f4f-d0890197b21e\",\"type\":\"DataRange1d\"},\"x_scale\":{\"id\":\"7277a8dc-8e99-489e-890a-007e46383991\",\"type\":\"LinearScale\"},\"y_range\":{\"id\":\"e7a4bae9-648f-4f2e-8bfe-dffdd15edef6\",\"type\":\"DataRange1d\"},\"y_scale\":{\"id\":\"1d2c10e4-cbf8-4e59-9949-8e1df4578ecd\",\"type\":\"LinearScale\"}},\"id\":\"a69b15e7-4bce-422e-9644-7dacd1682f14\",\"subtype\":\"Figure\",\"type\":\"Plot\"},{\"attributes\":{},\"id\":\"e29fc70e-f683-4161-8c8f-0fbd1502dfd6\",\"type\":\"BasicTicker\"},{\"attributes\":{\"formatter\":{\"id\":\"a29c36e6-5235-4dd4-9df3-47e6188e0367\",\"type\":\"BasicTickFormatter\"},\"plot\":{\"id\":\"a69b15e7-4bce-422e-9644-7dacd1682f14\",\"subtype\":\"Figure\",\"type\":\"Plot\"},\"ticker\":{\"id\":\"96e1aa1d-b00b-4283-bb27-4b812e97e32c\",\"type\":\"BasicTicker\"}},\"id\":\"45cdcb51-4b41-443c-bc82-12d159c519fc\",\"type\":\"LinearAxis\"},{\"attributes\":{\"callback\":null},\"id\":\"4a4fff97-962f-4dc2-9f4f-d0890197b21e\",\"type\":\"DataRange1d\"},{\"attributes\":{\"source\":{\"id\":\"4b92e76e-7790-4b0f-abc6-aa2831d34b0a\",\"type\":\"ColumnDataSource\"}},\"id\":\"e3a3b738-c448-4e5d-933a-fef06ccfe3e0\",\"type\":\"CDSView\"},{\"attributes\":{\"plot\":null,\"text\":\"\"},\"id\":\"dde1cf8a-9ed1-44e3-9e2b-0f8c1461a774\",\"type\":\"Title\"},{\"attributes\":{\"callback\":null,\"column_names\":[\"x\",\"top\"],\"data\":{\"top\":[6,7,8,7,3],\"x\":[1,2,3,4,5]}},\"id\":\"4b92e76e-7790-4b0f-abc6-aa2831d34b0a\",\"type\":\"ColumnDataSource\"},{\"attributes\":{\"data_source\":{\"id\":\"0e1dcb0d-a5e1-475c-b542-ff3f2587a0e5\",\"type\":\"ColumnDataSource\"},\"glyph\":{\"id\":\"d5a583c9-5191-4fa9-8ada-65bedfb7007f\",\"type\":\"Line\"},\"hover_glyph\":null,\"muted_glyph\":null,\"nonselection_glyph\":{\"id\":\"149eb7cc-d222-4a9e-b0f4-b4812cf4dd8a\",\"type\":\"Line\"},\"selection_glyph\":null,\"view\":{\"id\":\"38add2ca-5702-416c-976c-e5ee9deee753\",\"type\":\"CDSView\"}},\"id\":\"dada0ed1-85bc-408c-8089-9f31bac2e20b\",\"type\":\"GlyphRenderer\"},{\"attributes\":{\"dimension\":1,\"plot\":{\"id\":\"a69b15e7-4bce-422e-9644-7dacd1682f14\",\"subtype\":\"Figure\",\"type\":\"Plot\"},\"ticker\":{\"id\":\"96e1aa1d-b00b-4283-bb27-4b812e97e32c\",\"type\":\"BasicTicker\"}},\"id\":\"f57f6cbb-9de5-400b-8cd4-f24ac369c667\",\"type\":\"Grid\"},{\"attributes\":{\"source\":{\"id\":\"0e1dcb0d-a5e1-475c-b542-ff3f2587a0e5\",\"type\":\"ColumnDataSource\"}},\"id\":\"38add2ca-5702-416c-976c-e5ee9deee753\",\"type\":\"CDSView\"},{\"attributes\":{\"fill_color\":{\"value\":\"firebrick\"},\"line_color\":{\"value\":\"firebrick\"},\"top\":{\"field\":\"top\"},\"width\":{\"value\":0.5},\"x\":{\"field\":\"x\"}},\"id\":\"3f800565-dc11-463d-a5cf-8c80cb7bbc04\",\"type\":\"VBar\"}],\"root_ids\":[\"a69b15e7-4bce-422e-9644-7dacd1682f14\"]},\"title\":\"Bokeh Application\",\"version\":\"0.12.14\"}};\n",
       "  var render_items = [{\"docid\":\"d5fee84a-f20c-4dc0-9442-8dfd59f4d462\",\"elementid\":\"14f437e0-12c1-4ac6-b480-d4fe6a491396\",\"modelid\":\"a69b15e7-4bce-422e-9644-7dacd1682f14\"}];\n",
       "  root.Bokeh.embed.embed_items_notebook(docs_json, render_items);\n",
       "\n",
       "  }\n",
       "  if (root.Bokeh !== undefined) {\n",
       "    embed_document(root);\n",
       "  } else {\n",
       "    var attempts = 0;\n",
       "    var timer = setInterval(function(root) {\n",
       "      if (root.Bokeh !== undefined) {\n",
       "        embed_document(root);\n",
       "        clearInterval(timer);\n",
       "      }\n",
       "      attempts++;\n",
       "      if (attempts > 100) {\n",
       "        console.log(\"Bokeh: ERROR: Unable to run BokehJS code because BokehJS library is missing\")\n",
       "        clearInterval(timer);\n",
       "      }\n",
       "    }, 10, root)\n",
       "  }\n",
       "})(window);"
      ],
      "application/vnd.bokehjs_exec.v0+json": ""
     },
     "metadata": {
      "application/vnd.bokehjs_exec.v0+json": {
       "id": "a69b15e7-4bce-422e-9644-7dacd1682f14"
      }
     },
     "output_type": "display_data"
    }
   ],
   "source": [
    "# EXERCISE: create your own plot combining multiple glyphs together\n",
    "\n",
    "from bokeh.plotting import figure, show, output_file\n",
    "\n",
    "# set up some data\n",
    "x = [1, 2, 3, 4, 5]\n",
    "y = [6, 7, 8, 7, 3]\n",
    "\n",
    "# create a new plot with figure\n",
    "p = figure(plot_width=400, plot_height=400)\n",
    "\n",
    "# add both a line and circles on the same plot\n",
    "p.vbar(x, top = y, width=0.5, bottom=0, color=\"firebrick\")\n",
    "p.line(x, y, line_width=2)\n",
    "\n",
    "show(p) # show the results"
   ]
  },
  {
   "cell_type": "code",
   "execution_count": null,
   "metadata": {},
   "outputs": [],
   "source": []
  }
 ],
 "metadata": {
  "anaconda-cloud": {},
  "kernelspec": {
   "display_name": "Python 3",
   "language": "python",
   "name": "python3"
  },
  "language_info": {
   "codemirror_mode": {
    "name": "ipython",
    "version": 3
   },
   "file_extension": ".py",
   "mimetype": "text/x-python",
   "name": "python",
   "nbconvert_exporter": "python",
   "pygments_lexer": "ipython3",
   "version": "3.6.4"
  }
 },
 "nbformat": 4,
 "nbformat_minor": 1
}
